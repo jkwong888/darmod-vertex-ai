{
  "cells": [
    {
      "cell_type": "code",
      "source": [
        "!pip install --quiet openai langchain-core langchain-google-vertexai"
      ],
      "metadata": {
        "id": "2Oo7CzL_Lj8I"
      },
      "id": "2Oo7CzL_Lj8I",
      "execution_count": null,
      "outputs": []
    },
    {
      "cell_type": "code",
      "source": [
        "import os\n",
        "from datetime import datetime\n",
        "from typing import Tuple\n",
        "from IPython.display import display\n",
        "from IPython.display import Markdown\n",
        "import textwrap\n",
        "\n",
        "from google.cloud import aiplatform\n",
        "\n",
        "# Get the default cloud project id.\n",
        "PROJECT_ID = os.environ[\"GOOGLE_CLOUD_PROJECT\"]\n",
        "\n",
        "# Get the default region for launching jobs.\n",
        "REGION = os.environ[\"GOOGLE_CLOUD_REGION\"]\n",
        "\n",
        "def to_markdown(text):\n",
        "  text = text.replace('•', '  *')\n",
        "  return Markdown(textwrap.indent(text, '> ', predicate=lambda _: True))"
      ],
      "metadata": {
        "id": "0j8VFXJf23Q6",
        "executionInfo": {
          "status": "ok",
          "timestamp": 1728579962704,
          "user_tz": 240,
          "elapsed": 6622,
          "user": {
            "displayName": "",
            "userId": ""
          }
        }
      },
      "id": "0j8VFXJf23Q6",
      "execution_count": 1,
      "outputs": []
    },
    {
      "cell_type": "code",
      "id": "EtAqEfUpPTw7uyEhwHxF202Z",
      "metadata": {
        "tags": [],
        "id": "EtAqEfUpPTw7uyEhwHxF202Z",
        "executionInfo": {
          "status": "ok",
          "timestamp": 1728579970704,
          "user_tz": 240,
          "elapsed": 121,
          "user": {
            "displayName": "",
            "userId": ""
          }
        }
      },
      "source": [
        "#PROJECT_ID = \"jkwng-vertex-playground\"\n",
        "#REGION = \"us-central1\"\n",
        "\n",
        "system_prompt = \"You are a philosophical question answering bot asked to answer questions about the future.  Answer in one or two short sentences.\" # @param {type: \"string\"}\n",
        "prompt = \"How would the Future of AI in 10 Years look?\"  # @param {type: \"string\"}\n",
        "max_tokens = 256  # @param {type:\"integer\"}\n",
        "temperature = 1.0  # @param {type:\"number\"}\n",
        "top_p = 0.9  # @param {type:\"number\"}\n",
        "top_k = 1  # @param {type:\"integer\"}\n"
      ],
      "execution_count": 3,
      "outputs": []
    },
    {
      "cell_type": "markdown",
      "source": [
        "# Gemini via Vertex AI"
      ],
      "metadata": {
        "id": "9YlqLFr40nBq"
      },
      "id": "9YlqLFr40nBq"
    },
    {
      "cell_type": "markdown",
      "source": [
        "## Gemini 1.5 Pro Text-to-Text"
      ],
      "metadata": {
        "id": "ZLw5V6tA6fdx"
      },
      "id": "ZLw5V6tA6fdx"
    },
    {
      "cell_type": "code",
      "source": [
        "import vertexai\n",
        "from vertexai.generative_models import GenerativeModel, Part, FinishReason\n",
        "import vertexai.preview.generative_models as generative_models\n",
        "\n",
        "\n",
        "generation_config = {\n",
        "    \"max_output_tokens\": max_tokens,\n",
        "    \"temperature\": temperature,\n",
        "    \"top_p\": top_p,\n",
        "}\n",
        "\n",
        "safety_settings = {\n",
        "    generative_models.HarmCategory.HARM_CATEGORY_HATE_SPEECH: generative_models.HarmBlockThreshold.BLOCK_NONE,\n",
        "    generative_models.HarmCategory.HARM_CATEGORY_DANGEROUS_CONTENT: generative_models.HarmBlockThreshold.BLOCK_NONE,\n",
        "    generative_models.HarmCategory.HARM_CATEGORY_SEXUALLY_EXPLICIT: generative_models.HarmBlockThreshold.BLOCK_NONE,\n",
        "    generative_models.HarmCategory.HARM_CATEGORY_HARASSMENT: generative_models.HarmBlockThreshold.BLOCK_NONE,\n",
        "}\n",
        "\n",
        "vertexai.init(project=PROJECT_ID, location=REGION)\n",
        "model = GenerativeModel(\n",
        "  \"gemini-1.5-pro-002\",\n",
        "  #system_instruction=system_prompt,\n",
        ")\n"
      ],
      "metadata": {
        "id": "mkijfp6d60j9",
        "executionInfo": {
          "status": "ok",
          "timestamp": 1728579972275,
          "user_tz": 240,
          "elapsed": 6,
          "user": {
            "displayName": "",
            "userId": ""
          }
        }
      },
      "id": "mkijfp6d60j9",
      "execution_count": 4,
      "outputs": []
    },
    {
      "cell_type": "code",
      "source": [
        "responses = model.generate_content(\n",
        "    [prompt],\n",
        "    generation_config=generation_config,\n",
        "    safety_settings=safety_settings\n",
        ")\n",
        "\n",
        "\n",
        "to_markdown(responses.text)\n"
      ],
      "metadata": {
        "colab": {
          "base_uri": "https://localhost:8080/",
          "height": 295
        },
        "id": "95H-J4pM6s1e",
        "executionInfo": {
          "status": "ok",
          "timestamp": 1728418031692,
          "user_tz": 240,
          "elapsed": 5977,
          "user": {
            "displayName": "",
            "userId": ""
          }
        },
        "outputId": "6f0a9ced-285b-42d7-96b6-d794d3603ea5"
      },
      "id": "95H-J4pM6s1e",
      "execution_count": null,
      "outputs": [
        {
          "output_type": "execute_result",
          "data": {
            "text/plain": [
              "<IPython.core.display.Markdown object>"
            ],
            "text/markdown": "> Predicting the future is always tricky, but based on current trends, here's a plausible look at AI in 10 years (2034):\n> \n> **More Integrated and Invisible AI:**\n> \n> * **Ubiquitous Assistants:**  AI assistants will be far more proactive and integrated into our lives, anticipating needs rather than just reacting to commands. They'll manage schedules, filter information overload, personalize education and entertainment, and even offer emotional support.  Think less \"Hey Siri\" and more seamless integration into our devices and environments.\n> * **AI-Powered Automation:** Many routine tasks across various industries will be automated, from customer service and data entry to manufacturing and logistics. This will lead to increased efficiency and potentially job displacement in some sectors, while creating new roles in AI-related fields.\n> * **Personalized Experiences:**  AI will personalize everything from shopping recommendations and news feeds to medical treatments and fitness plans. This hyper-personalization could lead to both enhanced user experiences and increased privacy concerns.\n> \n> **Advanced Capabilities:**\n> \n> * **Improved Natural Language Processing (NLP):** We'll see more natural and nuanced conversations with AI.  Machines will better understand context, humor, and emotion, leading to more sophisticated chatbots, virtual assistants, and language translation"
          },
          "metadata": {},
          "execution_count": 105
        }
      ]
    },
    {
      "cell_type": "code",
      "source": [
        "print(responses)"
      ],
      "metadata": {
        "colab": {
          "base_uri": "https://localhost:8080/"
        },
        "id": "eplXmtEY80_J",
        "executionInfo": {
          "status": "ok",
          "timestamp": 1728346015921,
          "user_tz": 240,
          "elapsed": 204,
          "user": {
            "displayName": "",
            "userId": ""
          }
        },
        "outputId": "8131c53d-bf88-4c64-8e24-5d7c33af7c13"
      },
      "id": "eplXmtEY80_J",
      "execution_count": null,
      "outputs": [
        {
          "output_type": "stream",
          "name": "stdout",
          "text": [
            "candidates {\n",
            "  content {\n",
            "    role: \"model\"\n",
            "    parts {\n",
            "      text: \"In 10 years, AI will likely be deeply integrated into daily life, automating mundane tasks and augmenting human capabilities.  However,  ethical concerns around bias, job displacement, and autonomous decision-making will require careful consideration and regulation. \\n\"\n",
            "    }\n",
            "  }\n",
            "  finish_reason: STOP\n",
            "  safety_ratings {\n",
            "    category: HARM_CATEGORY_HATE_SPEECH\n",
            "    probability: NEGLIGIBLE\n",
            "    probability_score: 0.0260009765625\n",
            "    severity: HARM_SEVERITY_NEGLIGIBLE\n",
            "    severity_score: 0.042724609375\n",
            "  }\n",
            "  safety_ratings {\n",
            "    category: HARM_CATEGORY_DANGEROUS_CONTENT\n",
            "    probability: NEGLIGIBLE\n",
            "    probability_score: 0.040283203125\n",
            "    severity: HARM_SEVERITY_NEGLIGIBLE\n",
            "    severity_score: 0.09033203125\n",
            "  }\n",
            "  safety_ratings {\n",
            "    category: HARM_CATEGORY_HARASSMENT\n",
            "    probability: NEGLIGIBLE\n",
            "    probability_score: 0.046142578125\n",
            "    severity: HARM_SEVERITY_NEGLIGIBLE\n",
            "    severity_score: 0.046630859375\n",
            "  }\n",
            "  safety_ratings {\n",
            "    category: HARM_CATEGORY_SEXUALLY_EXPLICIT\n",
            "    probability: NEGLIGIBLE\n",
            "    probability_score: 0.037841796875\n",
            "    severity: HARM_SEVERITY_NEGLIGIBLE\n",
            "    severity_score: 0.033203125\n",
            "  }\n",
            "  avg_logprobs: -0.18175300897336474\n",
            "}\n",
            "usage_metadata {\n",
            "  prompt_token_count: 37\n",
            "  candidates_token_count: 51\n",
            "  total_token_count: 88\n",
            "}\n",
            "model_version: \"gemini-1.5-pro-002\"\n",
            "\n"
          ]
        }
      ]
    },
    {
      "cell_type": "markdown",
      "source": [
        "## Streaming response"
      ],
      "metadata": {
        "id": "Tp4GNGdB847v"
      },
      "id": "Tp4GNGdB847v"
    },
    {
      "cell_type": "code",
      "source": [
        "responses = model.generate_content(\n",
        "    [prompt],\n",
        "    generation_config=generation_config,\n",
        "    safety_settings=safety_settings,\n",
        "    stream=True,\n",
        ")\n",
        "\n",
        "for response in responses:\n",
        "  print(response.text)"
      ],
      "metadata": {
        "colab": {
          "base_uri": "https://localhost:8080/"
        },
        "id": "k-_9enpa638g",
        "executionInfo": {
          "status": "ok",
          "timestamp": 1728417942856,
          "user_tz": 240,
          "elapsed": 1394,
          "user": {
            "displayName": "",
            "userId": ""
          }
        },
        "outputId": "c5718710-7281-4843-8215-397e078d7bb4"
      },
      "id": "k-_9enpa638g",
      "execution_count": null,
      "outputs": [
        {
          "output_type": "stream",
          "name": "stdout",
          "text": [
            "In\n",
            " 10 years, AI will likely be deeply integrated into daily life, automating\n",
            " mundane tasks and augmenting human capabilities.  However,  fundamental questions around consciousness\n",
            " and ethical implications will remain a source of debate and research.\n",
            "\n",
            "\n"
          ]
        }
      ]
    },
    {
      "cell_type": "markdown",
      "source": [
        "## Gemini 1.5 Flash via Vertex AI"
      ],
      "metadata": {
        "id": "LbzSG4qN5qCe"
      },
      "id": "LbzSG4qN5qCe"
    },
    {
      "cell_type": "code",
      "source": [
        "model = GenerativeModel(\n",
        "  \"gemini-1.5-flash-002\",\n",
        "  #system_instruction=system_prompt,\n",
        ")\n",
        "responses = model.generate_content(\n",
        "    [prompt],\n",
        "    generation_config=generation_config,\n",
        "    safety_settings=safety_settings,\n",
        "    stream=True,\n",
        ")\n",
        "\n",
        "for response in responses:\n",
        "  print(response.text)"
      ],
      "metadata": {
        "colab": {
          "base_uri": "https://localhost:8080/"
        },
        "id": "sxS9G5FK5puv",
        "executionInfo": {
          "status": "ok",
          "timestamp": 1728418061154,
          "user_tz": 240,
          "elapsed": 11075,
          "user": {
            "displayName": "",
            "userId": ""
          }
        },
        "outputId": "0744495d-69e1-4de7-b014-b61e2d45af6c"
      },
      "id": "sxS9G5FK5puv",
      "execution_count": null,
      "outputs": [
        {
          "output_type": "stream",
          "name": "stdout",
          "text": [
            "Predic\n",
            "ting the future of AI in 10 years is challenging, but based on\n",
            " current trends, we can anticipate several significant developments:\n",
            "\n",
            "**Increased Capabilities and Integration\n",
            ":**\n",
            "\n",
            "* **More sophisticated AI models:** We'll see advancements in deep learning, leading to AI systems capable of more complex reasoning, problem-solving,\n",
            " and creativity.  Models will be significantly larger and more computationally efficient.\n",
            "* **Multimodal AI:** AI will seamlessly integrate different modalities like text, images,\n",
            " audio, and video, leading to a more holistic understanding of the world and richer user experiences.  Imagine AI that understands a scene in a video as well as a human does.\n",
            "* **Enhanced Natural Language Processing (NLP):**  \n",
            "AI will understand and generate human language with greater nuance, context, and emotional intelligence.  Expect more sophisticated chatbots, AI writing assistants, and translation tools.\n",
            "* **Personalized AI experiences:** AI will be deeply personalized, adapting to individual\n",
            " preferences, needs, and learning styles across various applications.\n",
            "* **Greater Automation:** AI will automate more tasks across various industries, from manufacturing and logistics to healthcare and customer service. This could lead to both increased productivity and significant job displacement in certain sectors.\n",
            "\n",
            "**Specific Applications and Industries:**\n",
            "\n",
            "* **Healthcare revolution\n"
          ]
        }
      ]
    },
    {
      "cell_type": "markdown",
      "source": [
        "## Gemini 1.5 Flash Text via OpenAI API"
      ],
      "metadata": {
        "id": "qE8Mt9ZJ9s-o"
      },
      "id": "qE8Mt9ZJ9s-o"
    },
    {
      "cell_type": "markdown",
      "source": [
        "Vertex AI also makes an OpenAI compatible endpoint in case you have written client code directly against OpenAI's SDK."
      ],
      "metadata": {
        "id": "-vbwFlqTBULk"
      },
      "id": "-vbwFlqTBULk"
    },
    {
      "cell_type": "code",
      "source": [
        "import openai\n",
        "\n",
        "from google.auth import default, transport\n",
        "\n",
        "# Programmatically get an access token\n",
        "credentials, _ = default(scopes=[\"https://www.googleapis.com/auth/cloud-platform\"])\n",
        "auth_request = transport.requests.Request()\n",
        "credentials.refresh(auth_request)\n",
        "\n",
        "# OpenAI Client\n",
        "client = openai.OpenAI(\n",
        "    base_url=f\"https://{REGION}-aiplatform.googleapis.com/v1beta1/projects/{PROJECT_ID}/locations/{REGION}/endpoints/openapi\",\n",
        "    api_key=credentials.token,\n",
        ")\n",
        "\n",
        "response = client.chat.completions.create(\n",
        "    model=\"google/gemini-1.5-flash-002\",\n",
        "    messages=[\n",
        "        {\n",
        "            \"role\": \"system\",\n",
        "            \"content\": [\n",
        "                {\n",
        "                  \"type\": \"text\",\n",
        "                  \"text\": system_prompt,\n",
        "                }\n",
        "            ],\n",
        "        },\n",
        "        {\n",
        "            \"role\": \"user\",\n",
        "            \"content\": [\n",
        "                {\n",
        "                    \"type\": \"text\",\n",
        "                    \"text\": prompt\n",
        "                },\n",
        "            ],\n",
        "        }\n",
        "    ],\n",
        "    stream=True,\n",
        ")\n",
        "for chunk in response:\n",
        "    print(chunk.choices[0].delta.content)"
      ],
      "metadata": {
        "colab": {
          "base_uri": "https://localhost:8080/"
        },
        "id": "yG8mEi8k9sQF",
        "executionInfo": {
          "status": "ok",
          "timestamp": 1728418155430,
          "user_tz": 240,
          "elapsed": 680,
          "user": {
            "displayName": "",
            "userId": ""
          }
        },
        "outputId": "e8a640f6-56ed-4308-f53e-2ca9a621efa8"
      },
      "id": "yG8mEi8k9sQF",
      "execution_count": null,
      "outputs": [
        {
          "output_type": "stream",
          "name": "stdout",
          "text": [
            "AI\n",
            " will be more integrated into daily life, assisting in various tasks and potentially exhibiting more\n",
            " advanced reasoning capabilities, though likely still short of human-level general intelligence.  \n",
            "Ethical considerations and regulations will be paramount.\n",
            "\n",
            "\n"
          ]
        }
      ]
    },
    {
      "cell_type": "markdown",
      "source": [
        "## Structured Generation\n",
        "\n"
      ],
      "metadata": {
        "id": "UzIpUTE5mq-M"
      },
      "id": "UzIpUTE5mq-M"
    },
    {
      "cell_type": "code",
      "source": [
        "from vertexai.generative_models import GenerationConfig\n",
        "\n",
        "response_schema = {\n",
        "    \"type\": \"array\",\n",
        "    \"items\": {\n",
        "        \"type\": \"object\",\n",
        "        \"properties\": {\n",
        "            \"recipe_name\": {\n",
        "                \"type\": \"string\",\n",
        "            },\n",
        "        },\n",
        "        \"required\": [\"recipe_name\"],\n",
        "    },\n",
        "}\n",
        "\n",
        "generation_config = GenerationConfig(\n",
        "    response_mime_type=\"application/json\",\n",
        "    response_schema=response_schema,\n",
        ")\n",
        "\n",
        "model = GenerativeModel(\n",
        "  \"gemini-1.5-pro-002\",\n",
        ")\n",
        "responses = model.generate_content(\n",
        "    [prompt],\n",
        "    generation_config=generation_config,\n",
        "    safety_settings=safety_settings,\n",
        ")\n",
        "\n",
        "json_obj = json.loads(responses.candidates[0].content.text)\n",
        "print(json.dumps(json_obj, indent=2))"
      ],
      "metadata": {
        "colab": {
          "base_uri": "https://localhost:8080/"
        },
        "id": "YZkJRYiGnkU7",
        "executionInfo": {
          "status": "ok",
          "timestamp": 1728418238311,
          "user_tz": 240,
          "elapsed": 3223,
          "user": {
            "displayName": "",
            "userId": ""
          }
        },
        "outputId": "7c8e075a-2818-41d4-a38f-982f2e203157"
      },
      "id": "YZkJRYiGnkU7",
      "execution_count": null,
      "outputs": [
        {
          "output_type": "stream",
          "name": "stdout",
          "text": [
            "[\n",
            "  {\n",
            "    \"recipe_name\": \"AI-Powered Personalized Education\"\n",
            "  },\n",
            "  {\n",
            "    \"recipe_name\": \"AI-Driven Drug Discovery and Development\"\n",
            "  },\n",
            "  {\n",
            "    \"recipe_name\": \"AI-Enhanced Cybersecurity\"\n",
            "  },\n",
            "  {\n",
            "    \"recipe_name\": \"AI-Powered Climate Change Mitigation\"\n",
            "  },\n",
            "  {\n",
            "    \"recipe_name\": \"AI in Autonomous Transportation\"\n",
            "  },\n",
            "  {\n",
            "    \"recipe_name\": \"AI-Driven Personalized Healthcare\"\n",
            "  },\n",
            "  {\n",
            "    \"recipe_name\": \"AI in Creative Arts and Entertainment\"\n",
            "  },\n",
            "  {\n",
            "    \"recipe_name\": \"AI-Powered Smart Cities\"\n",
            "  },\n",
            "  {\n",
            "    \"recipe_name\": \"AI in Robotics and Automation\"\n",
            "  },\n",
            "  {\n",
            "    \"recipe_name\": \"Explainable and Ethical AI\"\n",
            "  }\n",
            "]\n"
          ]
        }
      ]
    },
    {
      "cell_type": "markdown",
      "source": [
        "## Function Calling"
      ],
      "metadata": {
        "id": "RurualwgnwdD"
      },
      "id": "RurualwgnwdD"
    },
    {
      "cell_type": "code",
      "source": [],
      "metadata": {
        "id": "U8FqKW97nzm-"
      },
      "id": "U8FqKW97nzm-",
      "execution_count": null,
      "outputs": []
    },
    {
      "cell_type": "markdown",
      "source": [
        "# Llama 3.1 Text via Vertex AI Model Garden (MaaS)"
      ],
      "metadata": {
        "id": "4G6FVBjP_6Bp"
      },
      "id": "4G6FVBjP_6Bp"
    },
    {
      "cell_type": "markdown",
      "source": [
        "Vertex AI also has an API service available for Meta's Llama 3 models so you can use them without having to manage the infrastructure yourself.  Llama 3.1 API service uses the OpenAPI chat completions API.  We can use the same OpenAI API above we used to call Gemini to call Llama 3.1 405B."
      ],
      "metadata": {
        "id": "5hbbbKufAgQ0"
      },
      "id": "5hbbbKufAgQ0"
    },
    {
      "cell_type": "code",
      "source": [
        "response = client.chat.completions.create(\n",
        "    model=\"meta/llama3-405b-instruct-maas\",\n",
        "    messages=[\n",
        "        {\n",
        "            \"role\": \"system\",\n",
        "            \"content\": [\n",
        "                {\n",
        "                  \"type\": \"text\",\n",
        "                  \"text\": system_prompt,\n",
        "                }\n",
        "            ],\n",
        "        },\n",
        "        {\n",
        "            \"role\": \"user\",\n",
        "            \"content\": [\n",
        "                {\n",
        "                    \"type\": \"text\",\n",
        "                    \"text\": prompt\n",
        "                },\n",
        "            ],\n",
        "        }\n",
        "    ],\n",
        "    stream=True,\n",
        ")\n",
        "\n",
        "for chunk in response:\n",
        "    print(chunk.choices[0].delta.content)"
      ],
      "metadata": {
        "colab": {
          "base_uri": "https://localhost:8080/"
        },
        "id": "2-oNwqHFAAIA",
        "executionInfo": {
          "status": "ok",
          "timestamp": 1728418525951,
          "user_tz": 240,
          "elapsed": 2134,
          "user": {
            "displayName": "",
            "userId": ""
          }
        },
        "outputId": "0e5cf651-9c01-4cc9-dfc1-607868e39a89"
      },
      "id": "2-oNwqHFAAIA",
      "execution_count": null,
      "outputs": [
        {
          "output_type": "stream",
          "name": "stdout",
          "text": [
            "In 10 years, AI is likely to be deeply integrated into daily life,\n",
            " transforming industries such as healthcare, finance, and education with increased autonomy and sophisticated decision\n",
            "-making capabilities. Humans and AI systems may collaborate seamlessly, leading to unprecedented levels of\n",
            " innovation and productivity.\n",
            "\n"
          ]
        }
      ]
    },
    {
      "cell_type": "markdown",
      "source": [
        "# Vertex AI via Langchain"
      ],
      "metadata": {
        "id": "kVfzUOmUPzCl"
      },
      "id": "kVfzUOmUPzCl"
    },
    {
      "cell_type": "markdown",
      "source": [
        "Langchain also has extensions to call Vertex AI.  Note you can also use the `ChatOpenAI` class above with the `base_url` to call Gemini via the OpenAI compatible endpoint as well."
      ],
      "metadata": {
        "id": "eYMxK7D71yG7"
      },
      "id": "eYMxK7D71yG7"
    },
    {
      "cell_type": "code",
      "source": [
        "from langchain_core.prompts import ChatPromptTemplate\n",
        "from langchain_google_vertexai import VertexAI\n",
        "\n",
        "# To use model\n",
        "llm = VertexAI(model_name=\"gemini-1.5-pro-002\", safety_settings=safety_settings)\n",
        "\n",
        "prompt_template = ChatPromptTemplate.from_messages([\n",
        "  (\"system\", system_prompt),\n",
        "  (\"user\", \"{input}\"),\n",
        "])\n",
        "\n",
        "chain = prompt_template | llm\n",
        "to_markdown(chain.invoke({\"input\": prompt}))"
      ],
      "metadata": {
        "colab": {
          "base_uri": "https://localhost:8080/",
          "height": 118
        },
        "id": "4pXW8Q5uPyd4",
        "executionInfo": {
          "status": "ok",
          "timestamp": 1728418601025,
          "user_tz": 240,
          "elapsed": 8535,
          "user": {
            "displayName": "",
            "userId": ""
          }
        },
        "outputId": "6894cd0e-d7be-4c36-f7b8-314a6a11794c"
      },
      "id": "4pXW8Q5uPyd4",
      "execution_count": null,
      "outputs": [
        {
          "output_type": "stream",
          "name": "stderr",
          "text": [
            "WARNING:langchain_core.language_models.llms:Retrying langchain_google_vertexai.llms._completion_with_retry.<locals>._completion_with_retry_inner in 4.0 seconds as it raised ResourceExhausted: 429 Unable to submit request because the service is temporarily out of capacity. Try again later..\n"
          ]
        },
        {
          "output_type": "execute_result",
          "data": {
            "text/plain": [
              "<IPython.core.display.Markdown object>"
            ],
            "text/markdown": "> In 10 years, AI will likely be deeply integrated into daily life, automating mundane tasks and augmenting human capabilities.  However, crucial questions of ethical oversight and equitable access will still be actively debated and shaped.\n"
          },
          "metadata": {},
          "execution_count": 111
        }
      ]
    },
    {
      "cell_type": "markdown",
      "source": [
        "# Multimodal input"
      ],
      "metadata": {
        "id": "mYgWf_wGNRFG"
      },
      "id": "mYgWf_wGNRFG"
    },
    {
      "cell_type": "markdown",
      "source": [
        "## Multimodal input via Vertex AI SDK"
      ],
      "metadata": {
        "id": "afsvznlSN3fo"
      },
      "id": "afsvznlSN3fo"
    },
    {
      "cell_type": "code",
      "source": [
        "image_prompt = \"What is happening in the image?\"  # @param {type: \"string\"}\n",
        "bucket = \"jkwng-vertex-experiments\"  # @param {type: \"string\"}\n",
        "path = \"sports/basketball/00000096.jpg\"  # @param {type: \"string\"}\n",
        "max_tokens = 256  # @param {type:\"integer\"}\n",
        "temperature = 1.0  # @param {type:\"number\"}\n",
        "top_p = 0.9  # @param {type:\"number\"}\n",
        "top_k = 1  # @param {type:\"integer\"}"
      ],
      "metadata": {
        "id": "dQkqWYt5hB5x",
        "executionInfo": {
          "status": "ok",
          "timestamp": 1728579987673,
          "user_tz": 240,
          "elapsed": 184,
          "user": {
            "displayName": "",
            "userId": ""
          }
        }
      },
      "id": "dQkqWYt5hB5x",
      "execution_count": 6,
      "outputs": []
    },
    {
      "cell_type": "markdown",
      "source": [
        "### Gemini 1.5 pro"
      ],
      "metadata": {
        "id": "VL9JkKt_OIlZ"
      },
      "id": "VL9JkKt_OIlZ"
    },
    {
      "cell_type": "markdown",
      "source": [
        "Gemini 1.5 pro is natively multi-modal, and can be used for text, image, video, and audio understanding."
      ],
      "metadata": {
        "id": "hmNIkP8w07lR"
      },
      "id": "hmNIkP8w07lR"
    },
    {
      "cell_type": "code",
      "source": [
        "# prompt: download image from blob into bytes\n",
        "\n",
        "from google.cloud import storage\n",
        "from IPython.display import Image as DisplayImage\n",
        "\n",
        "storage_client = storage.Client()\n",
        "\n",
        "def download_blob_as_bytes(bucket_name, blob_name):\n",
        "    \"\"\"Downloads a blob from the bucket.\"\"\"\n",
        "    # bucket_name = \"your-bucket-name\"\n",
        "    # blob_name = \"your-object-name\"\n",
        "\n",
        "    bucket = storage_client.bucket(bucket_name)\n",
        "    blob = bucket.blob(blob_name)\n",
        "    contents_bytes = blob.download_as_bytes()\n",
        "\n",
        "    print(\n",
        "        \"Downloaded blob {} from bucket {} as bytes\".format(\n",
        "            blob_name, bucket_name\n",
        "        )\n",
        "    )\n",
        "    return contents_bytes\n",
        "\n",
        "image_bytes = download_blob_as_bytes(bucket, path)\n",
        "display(DisplayImage(image_bytes))"
      ],
      "metadata": {
        "colab": {
          "base_uri": "https://localhost:8080/",
          "height": 367
        },
        "id": "jvS5N3qbf4x9",
        "executionInfo": {
          "status": "ok",
          "timestamp": 1728579990177,
          "user_tz": 240,
          "elapsed": 378,
          "user": {
            "displayName": "",
            "userId": ""
          }
        },
        "outputId": "e3ee3fed-3640-4dce-896f-e74ba0838995"
      },
      "id": "jvS5N3qbf4x9",
      "execution_count": 7,
      "outputs": [
        {
          "output_type": "stream",
          "name": "stdout",
          "text": [
            "Downloaded blob sports/basketball/00000096.jpg from bucket jkwng-vertex-experiments as bytes\n"
          ]
        },
        {
          "output_type": "display_data",
          "data": {
            "image/jpeg": "[encoded data removed]",
            "text/plain": [
              "<IPython.core.display.Image object>"
            ]
          },
          "metadata": {}
        }
      ]
    },
    {
      "cell_type": "code",
      "source": [
        "image_file = Part.from_uri(\n",
        "    f\"gs://{bucket}/{path}\", \"image/jpeg\"\n",
        ")\n",
        "\n",
        "model = GenerativeModel(\n",
        "  \"gemini-1.5-pro-002\",\n",
        ")\n",
        "\n",
        "# Query the model\n",
        "response = model.generate_content([image_file, image_prompt])\n",
        "to_markdown(response.text)"
      ],
      "metadata": {
        "colab": {
          "base_uri": "https://localhost:8080/",
          "height": 149
        },
        "id": "qiYcz8EhVhlc",
        "executionInfo": {
          "status": "ok",
          "timestamp": 1728418663339,
          "user_tz": 240,
          "elapsed": 4310,
          "user": {
            "displayName": "",
            "userId": ""
          }
        },
        "outputId": "de0b376a-ed27-4218-d999-1e602810e623"
      },
      "id": "qiYcz8EhVhlc",
      "execution_count": null,
      "outputs": [
        {
          "output_type": "execute_result",
          "data": {
            "text/plain": [
              "<IPython.core.display.Markdown object>"
            ],
            "text/markdown": "> The image captures a dynamic scene during a basketball game. A player wearing a blue jersey with the number 7 and \"VISA\" written on it is in mid-air, having just shot the ball.  He's the focus of the action.  Two of his teammates are also in the frame, one of whom is closely guarding an opponent in a white jersey with \"MEXICO\" and the number 25. Another opponent in a red jersey is watching the shot.  A fourth player in a dark blue jersey is on the right side of the image, seemingly reacting to the play.  The background shows a large, modern indoor stadium with spectators, scoreboards, and various advertisements. It appears to be a professional game given the setting and intensity of the moment captured."
          },
          "metadata": {},
          "execution_count": 114
        }
      ]
    },
    {
      "cell_type": "markdown",
      "source": [
        "## Multimodal input via OpenAI SDK"
      ],
      "metadata": {
        "id": "g1wB-zW3N7mz"
      },
      "id": "g1wB-zW3N7mz"
    },
    {
      "cell_type": "markdown",
      "source": [
        "### Llama 3.2"
      ],
      "metadata": {
        "id": "1RpGgV5DOFe4"
      },
      "id": "1RpGgV5DOFe4"
    },
    {
      "cell_type": "markdown",
      "source": [
        "Llama 3.2 is an open weight multi-modal variant of Llama that can be used for image understanding, which is also consumable as a service using Vertex AI Model-as-a-service."
      ],
      "metadata": {
        "id": "EQ7txD_yjQPe"
      },
      "id": "EQ7txD_yjQPe"
    },
    {
      "cell_type": "code",
      "source": [
        "response = client.chat.completions.create(\n",
        "    model=\"meta/llama-3.2-90b-vision-instruct-maas\",\n",
        "    messages=[\n",
        "\n",
        "        {\n",
        "            \"role\": \"user\",\n",
        "            \"content\": [\n",
        "                {\"image_url\": {\"url\": f\"gs://{bucket}/{path}\"}, \"type\": \"image_url\"},\n",
        "                {\n",
        "                    \"type\": \"text\",\n",
        "                    \"text\": image_prompt\n",
        "                },\n",
        "            ],\n",
        "        }\n",
        "    ],\n",
        ")\n",
        "\n",
        "to_markdown(response.choices[0].message.content)"
      ],
      "metadata": {
        "colab": {
          "base_uri": "https://localhost:8080/",
          "height": 237
        },
        "id": "FkWIiSiKhjss",
        "executionInfo": {
          "status": "ok",
          "timestamp": 1728418721927,
          "user_tz": 240,
          "elapsed": 7855,
          "user": {
            "displayName": "",
            "userId": ""
          }
        },
        "outputId": "f0867df8-4fa1-463b-a2e2-101ca64acc31"
      },
      "id": "FkWIiSiKhjss",
      "execution_count": null,
      "outputs": [
        {
          "output_type": "execute_result",
          "data": {
            "text/plain": [
              "<IPython.core.display.Markdown object>"
            ],
            "text/markdown": "> The image depicts a basketball game in progress, with players from both teams actively engaged on the court. The scene is set against a backdrop of a packed stadium, where spectators are seated and watching the game intently.\n> \n> **Key Elements:**\n> \n> * A basketball player in a black uniform is attempting to score by jumping up and reaching for the hoop.\n> * Another player in a white uniform is trying to block the shot.\n> * Other players are positioned around the court, some of whom appear to be moving towards the action or reacting to it.\n> * The court itself features a blue floor with white lines, and the hoop is visible at the top of the image.\n> * In the background, the stands are filled with people watching the game, creating an energetic atmosphere.\n> \n> **Conclusion:**\n> Based on the visual information presented, it can be inferred that the image captures a moment of intense competition during a basketball game. The players' actions and the crowd's presence suggest a high level of excitement and engagement."
          },
          "metadata": {},
          "execution_count": 115
        }
      ]
    },
    {
      "cell_type": "markdown",
      "source": [
        "# Embeddings models"
      ],
      "metadata": {
        "id": "82E0aceLCAI7"
      },
      "id": "82E0aceLCAI7"
    },
    {
      "cell_type": "markdown",
      "source": [
        "## Text Embeddings"
      ],
      "metadata": {
        "id": "eikZG7krNagx"
      },
      "id": "eikZG7krNagx"
    },
    {
      "cell_type": "markdown",
      "source": [
        "If generating embeddings for mostly english text, you can use the `text-embedding-004` model. For non-English text, there is a multi-lingual embeddings model `text-multilingual-embedding-002`.\n",
        "\n",
        "Here we will retrieve the embeddings for both of the responses above and calculate the embeddings for both."
      ],
      "metadata": {
        "id": "ofcCTBFOCNt_"
      },
      "id": "ofcCTBFOCNt_"
    },
    {
      "cell_type": "code",
      "source": [
        "from vertexai.language_models import TextEmbeddingModel\n",
        "\n",
        "messages = [\n",
        "    {\n",
        "        \"role\": \"system\",\n",
        "        \"content\": [\n",
        "            {\n",
        "              \"type\": \"text\",\n",
        "              \"text\": system_prompt,\n",
        "            }\n",
        "        ],\n",
        "    },\n",
        "    {\n",
        "        \"role\": \"user\",\n",
        "        \"content\": [\n",
        "            {\n",
        "                \"type\": \"text\",\n",
        "                \"text\": prompt\n",
        "            },\n",
        "        ],\n",
        "    }\n",
        "]\n",
        "\n",
        "gemini_resp = client.chat.completions.create(\n",
        "    model=\"google/gemini-1.5-pro-002\",\n",
        "    messages=messages,\n",
        "    max_completion_tokens=max_tokens,\n",
        "    temperature=temperature,\n",
        "    top_p=top_p,\n",
        "    stream=False,\n",
        ")\n",
        "gemini_resp_str = gemini_resp.choices[0].message.content\n",
        "to_markdown(f\"Gemini response: {gemini_resp_str}\")\n",
        "\n",
        "\n"
      ],
      "metadata": {
        "colab": {
          "base_uri": "https://localhost:8080/",
          "height": 80
        },
        "id": "qbtVrYvaCrMn",
        "executionInfo": {
          "status": "ok",
          "timestamp": 1728418782407,
          "user_tz": 240,
          "elapsed": 1663,
          "user": {
            "displayName": "",
            "userId": ""
          }
        },
        "outputId": "a680b6a8-b09c-464f-f82a-31246b04bb37"
      },
      "id": "qbtVrYvaCrMn",
      "execution_count": null,
      "outputs": [
        {
          "output_type": "execute_result",
          "data": {
            "text/plain": [
              "<IPython.core.display.Markdown object>"
            ],
            "text/markdown": "> Gemini response: In 10 years, AI will likely be deeply integrated into daily life, automating mundane tasks and augmenting human capabilities.  However, ethical concerns around bias, job displacement, and autonomous decision-making will require careful consideration.\n"
          },
          "metadata": {},
          "execution_count": 116
        }
      ]
    },
    {
      "cell_type": "code",
      "source": [
        "llama_resp = client.chat.completions.create(\n",
        "    model=\"meta/llama3-405b-instruct-maas\",\n",
        "    messages=messages,\n",
        "    max_completion_tokens=max_tokens,\n",
        "    temperature=temperature,\n",
        "    top_p=top_p,\n",
        "    stream=False,\n",
        ")\n",
        "llama_resp_str = llama_resp.choices[0].message.content\n",
        "to_markdown(f\"Llama response: {llama_resp_str}\")"
      ],
      "metadata": {
        "colab": {
          "base_uri": "https://localhost:8080/",
          "height": 97
        },
        "id": "5XZO7M33SM2t",
        "executionInfo": {
          "status": "ok",
          "timestamp": 1728418789346,
          "user_tz": 240,
          "elapsed": 2401,
          "user": {
            "displayName": "",
            "userId": ""
          }
        },
        "outputId": "7b81a218-5a87-4517-be18-e1753f32a2dc"
      },
      "id": "5XZO7M33SM2t",
      "execution_count": null,
      "outputs": [
        {
          "output_type": "execute_result",
          "data": {
            "text/plain": [
              "<IPython.core.display.Markdown object>"
            ],
            "text/markdown": "> Llama response: In 10 years, AI is expected to be deeply integrated into daily life, transforming industries such as healthcare, finance, and transportation with increased autonomy and human-AI collaboration. Advances in natural language processing, computer vision, and machine learning will likely lead to more sophisticated and human-like AI interactions."
          },
          "metadata": {},
          "execution_count": 117
        }
      ]
    },
    {
      "cell_type": "code",
      "source": [
        "model = TextEmbeddingModel.from_pretrained(\"text-embedding-004\")\n",
        "embeddings = model.get_embeddings(\n",
        "     texts=[\n",
        "         gemini_resp_str,\n",
        "         llama_resp_str,\n",
        "     ],\n",
        ")\n",
        "\n",
        "embeddings = [embedding.values for embedding in embeddings]\n",
        "\n",
        "print(embeddings)"
      ],
      "metadata": {
        "colab": {
          "base_uri": "https://localhost:8080/"
        },
        "id": "LCg-eqwvJl28",
        "executionInfo": {
          "status": "ok",
          "timestamp": 1728418802893,
          "user_tz": 240,
          "elapsed": 1414,
          "user": {
            "displayName": "",
            "userId": ""
          }
        },
        "outputId": "094838d4-0e3d-4439-b8de-5596cab5f557"
      },
      "id": "LCg-eqwvJl28",
      "execution_count": null,
      "outputs": [
        {
          "output_type": "stream",
          "name": "stdout",
          "text": [
            "[[0.028578810393810272, 0.01871803030371666, 0.010461695492267609, 0.020793987438082695, -0.0646403357386589, 0.041559722274541855, -0.0012230802094563842, 0.0270688496530056, 0.0032663801684975624, 0.003664738032966852, -0.04069408029317856, 0.05282213166356087, 0.020665809512138367, 0.05943065136671066, -0.023137005046010017, 0.0045309048146009445, -0.011483638547360897, 0.05149185284972191, -0.052381742745637894, -0.01067932229489088, -0.06328552216291428, 0.04053576663136482, -0.005438573658466339, -0.03069956973195076, 0.008832676336169243, -0.053684674203395844, 0.04665673151612282, 0.0022688619792461395, 0.00959881953895092, 0.0018617539899423718, -0.0377688892185688, 0.021558484062552452, 0.014746168628334999, -0.0049739922396838665, -0.023599043488502502, -0.029152797535061836, 0.003103381022810936, -0.017293209210038185, -0.023166261613368988, -0.017812570556998253, -0.0462355874478817, -0.06521446257829666, 0.022640183568000793, 0.04826238006353378, -0.041586797684431076, 0.01865197718143463, -0.013139370828866959, 0.005603579804301262, -0.04264386370778084, 0.06342840939760208, 0.019213644787669182, -0.07142850011587143, -0.016338838264346123, -0.04506624862551689, -0.0699305608868599, -0.07778304070234299, -0.03909401223063469, -0.0024078458081930876, 0.05239452049136162, -0.016311148181557655, -0.0013766848715022206, 0.020996423438191414, -0.013734080828726292, -0.024208353832364082, 0.01279760804027319, 0.058213766664266586, 0.03983771428465843, -0.023674482479691505, -0.08417123556137085, 0.04081152379512787, -0.03863798454403877, -0.03914244845509529, -0.049672070890665054, 0.08278921246528625, -0.0226594228297472, 0.02442874014377594, 0.036830589175224304, 0.002266263822093606, -0.03444803133606911, 0.010824710130691528, 0.03614885360002518, -0.02522622048854828, 0.05116667598485947, 0.012496983632445335, 0.06959528475999832, -0.07881859689950943, 0.020268434658646584, -0.029604002833366394, -0.08285589516162872, -0.03305334970355034, -0.018586689606308937, 0.01278970018029213, 0.058993127197027206, -0.0062895240262150764, 0.05467744171619415, -0.0006523472256958485, -0.06003723293542862, -0.04375016689300537, 0.06874579191207886, -0.015140317380428314, 0.04471445083618164, -0.014646979048848152, -0.030983829870820045, -0.05503854900598526, 0.028793875128030777, 0.1434374302625656, -0.015474357642233372, 0.0011159953428432345, -0.0491219125688076, 0.022981880232691765, 0.033042725175619125, -6.01219326199498e-05, 0.028385458514094353, 0.023087691515684128, 0.045887961983680725, -0.00636783754453063, -0.022285152226686478, 0.03150217980146408, -0.05457688122987747, 0.015577172860503197, 0.008260306902229786, 0.0041110520251095295, -0.048268646001815796, 0.018988341093063354, 0.0772702544927597, 0.033502526581287384, -0.016671307384967804, 0.016219835728406906, -0.04061324894428253, -0.0020106066949665546, 0.02783721312880516, -0.10818818211555481, -0.024213431403040886, 0.061547860503196716, -0.0336163155734539, 0.026086172088980675, 5.919195609749295e-05, -0.06046810373663902, 0.0238217581063509, 0.009464873932301998, -0.0035260480362921953, -0.035716816782951355, -0.002987624378874898, -0.019234735518693924, 0.03786827251315117, -0.05073319002985954, 0.013530067168176174, 0.03034644015133381, -0.04962661862373352, -0.0023238076828420162, -0.02701243944466114, 0.0011591578368097544, 0.006184466183185577, 0.018806036561727524, -0.02795768342912197, -0.0020570179913192987, 0.03516634181141853, -0.01048992108553648, 0.03997980058193207, 0.01779278926551342, 0.00534446956589818, -0.08128570765256882, -0.024124139919877052, 0.001448743394576013, 0.01612505316734314, -0.00558217940852046, 0.05573039501905441, -0.0714053064584732, 0.02329988405108452, 0.025677181780338287, 0.016585683450102806, 0.03276437893509865, -0.028637459501624107, -0.0004840880283154547, 0.05236099660396576, -0.039796050637960434, 0.04717610776424408, -0.0407848060131073, -0.0132933109998703, -0.09004224091768265, 0.027254711836576462, -0.01316559687256813, -0.033265333622694016, -0.043991368263959885, 0.002871450735256076, -0.014346381649374962, 0.022563273087143898, 0.008947418071329594, 0.0816366896033287, 0.02197027951478958, -0.021542252972722054, 0.013868268579244614, 0.02458491548895836, -0.038748521357774734, 0.0014763082144781947, -0.017098980024456978, 0.005887301173061132, -0.03997473791241646, 0.030568277463316917, -0.041287560015916824, -0.05090908333659172, 0.024091621860861778, -0.0059262169525027275, -0.006401950027793646, 0.04442499577999115, 0.025328148156404495, -0.05702357366681099, -0.021102961152791977, 0.03686048462986946, 0.02929011359810829, -0.10483366250991821, 0.030947910621762276, -0.04761604219675064, -0.027715275064110756, -0.011428885161876678, 0.0023375204764306545, 0.05516129359602928, -0.033790890127420425, 0.07348057627677917, -0.004171989392489195, 0.011286611668765545, -0.039175473153591156, -0.015026095323264599, -0.016604991629719734, 0.05830376595258713, 0.050782039761543274, 0.028316549956798553, -0.0398210771381855, -0.03578701242804527, -0.03926734998822212, 0.004073532298207283, 0.02829671837389469, -0.02322656475007534, 0.038559019565582275, -0.034127842634916306, 0.039902593940496445, 0.022222358733415604, 0.03246833011507988, -0.08062154799699783, -0.05703091621398926, -0.020019929856061935, -0.013960522599518299, 0.055989403277635574, -0.0476587638258934, -0.06058211252093315, 0.01686943881213665, -0.07277101278305054, 0.030947383493185043, -0.0042387694120407104, -0.05740257725119591, -0.036518123000860214, 0.003225885797291994, -0.021842367947101593, 0.025130348280072212, -0.017888041213154793, 0.021092509850859642, -0.04260200634598732, 0.04892106354236603, -0.04636970907449722, -0.07456289976835251, 0.0784834548830986, -0.032080281525850296, -0.006930507719516754, -0.022069908678531647, -0.016808539628982544, -0.07515546679496765, -0.037535905838012695, -0.015709543600678444, 0.029262972995638847, -0.04130600020289421, 0.035039376467466354, 0.010703068226575851, -0.00020548469910863787, -0.06858531385660172, -0.047735586762428284, 0.05326329916715622, 0.03153863549232483, -0.004889369010925293, -0.0005050954059697688, 0.0019534446764737368, 0.053541261702775955, 0.027441026642918587, -0.0394059456884861, -0.010668788105249405, 0.023044954985380173, -0.022624725475907326, -0.018821224570274353, -0.007860887795686722, -0.010006287135183811, -0.05776481330394745, -0.00509223248809576, -0.003367258468642831, -0.03926994279026985, -0.04338059946894646, -0.0010905740782618523, -0.007553019095212221, 0.010436678305268288, 0.025258593261241913, 0.03328927606344223, -0.049324627965688705, -0.03640518710017204, 0.05861248821020126, -0.049291446805000305, 0.05220769718289375, -0.021436655893921852, 0.04298756271600723, 0.05584137514233589, 0.026958439499139786, -0.03937800973653793, 0.03303305059671402, -0.008880821987986565, -0.016477184370160103, -0.07663131505250931, -0.014757691882550716, -0.016044821590185165, 0.01577768474817276, -0.093735471367836, 0.04088946804404259, -0.04229572042822838, 0.014195166528224945, -0.020862145349383354, 0.033011335879564285, -0.05646316707134247, 0.020136024802923203, 0.10383181273937225, -0.0302121601998806, 0.016886303201317787, 0.03386082127690315, 0.0523945614695549, 0.004490564577281475, 0.03861835226416588, 0.044096510857343674, 0.011730020865797997, 0.004676245618611574, -0.026950497180223465, 0.021621357649564743, -0.015048656612634659, 0.008101075887680054, 0.04147537052631378, 0.024104448035359383, 0.03390153497457504, 0.018518226221203804, 0.013646319508552551, 0.03845597803592682, 0.025014737620949745, 0.02554784156382084, -0.04816180095076561, 0.001084299641661346, -0.00895837415009737, 0.013481558300554752, 0.005807714536786079, 0.03357849270105362, 0.04656833037734032, -0.01689961552619934, -0.006861675996333361, -0.023070894181728363, 0.06991322338581085, -0.014766513369977474, 0.040608473122119904, -0.026075171306729317, -0.018848076462745667, -0.01750924624502659, -0.02175002358853817, 0.00687663396820426, -0.02440839633345604, -0.020477669313549995, 0.0011623299214988947, -0.0002565983450040221, -0.01699705794453621, -0.04385356232523918, 0.012753879651427269, -0.0430334247648716, 0.062344614416360855, 0.0040472522377967834, 0.04370656982064247, -0.013121622614562511, -0.05010072886943817, 0.034287113696336746, 0.01729164831340313, 0.022000256925821304, -0.020793044939637184, -0.05813296139240265, 0.02391144447028637, 0.006171017419546843, -0.03558460623025894, 0.012997094541788101, -0.013232823461294174, -0.009053592570126057, 0.020252538844943047, 0.08150004595518112, -0.01462271623313427, 0.05257108062505722, 0.012556864880025387, 0.024113763123750687, 0.00962024088948965, 0.012349491007626057, -0.006963408552110195, -0.01339572574943304, -0.01163006667047739, 0.02025706134736538, -0.010013510473072529, 0.036476898938417435, 0.08233444392681122, -0.03505219519138336, 0.027990154922008514, 0.014871657826006413, 0.003926304634660482, 0.008457362651824951, 0.0018235447350889444, -0.05546589940786362, -0.04848477616906166, -0.029788658022880554, -0.10067953169345856, -0.04686012119054794, 0.05806361883878708, 0.041204117238521576, 0.037538379430770874, 0.026934370398521423, -0.026889538392424583, 0.08337198197841644, -0.003191353753209114, -0.03610236942768097, 0.01414189487695694, 0.03337845206260681, -0.011248520575463772, -0.011370612308382988, -0.011609666049480438, 0.038993969559669495, -0.014398247003555298, 0.013300711289048195, 0.0029940882232040167, -0.05369407311081886, 0.014105313457548618, -0.016533086076378822, -0.04831394553184509, 0.043861519545316696, -0.007621524389833212, -0.007492600474506617, 0.06523341685533524, -0.03061026707291603, 0.0011428470024839044, 0.012223068624734879, 0.03282342851161957, 0.0407240204513073, 0.03043413907289505, 0.022858433425426483, 0.04753127694129944, 0.03446219116449356, -0.016085267066955566, 0.010199402458965778, -0.02584056556224823, 0.0059167491272091866, -0.0064375149086117744, -0.054324571043252945, -0.014859199523925781, -0.03829974681138992, 0.006797929294407368, -0.007774124853312969, 0.03409164026379585, -0.01647564209997654, -0.0017477442743256688, -0.006995493080466986, 0.030269986018538475, 0.06071712449193001, 0.022906621918082237, -0.04819410666823387, 0.021175721660256386, 0.0307582039386034, -4.123220787732862e-05, 0.04531284421682358, 0.04586777463555336, 0.000998461851850152, 0.0153417456895113, -0.007729135453701019, -0.02610349841415882, 0.0022099579218775034, 0.04293109476566315, 0.006449185777455568, 0.0797577053308487, -0.016487017273902893, 0.04625381529331207, 0.029996508732438087, 0.0015522134490311146, 0.01716216653585434, 0.06936877220869064, -0.01607155054807663, -0.08523908257484436, -0.01302985567599535, 0.024271249771118164, 0.008075430057942867, 0.037167977541685104, 0.017316728830337524, -0.02529432624578476, -0.06020835414528847, -0.023481355980038643, -0.007741399109363556, 0.08202166110277176, 0.0022414221893996, 0.030175378546118736, 0.042407333850860596, 0.06158984825015068, 0.021501168608665466, 0.02434086985886097, -0.11043792217969894, 0.017695322632789612, -0.021187102422118187, 0.0001266252074856311, -0.024525897577404976, 0.02787177264690399, 0.04681010544300079, 0.03291427344083786, -0.004077905789017677, -0.02379094995558262, 0.0256597138941288, -0.0394739992916584, 0.05393023416399956, -0.019568990916013718, 0.0688810870051384, -0.024369044229388237, 0.0277083870023489, 0.005232381168752909, -0.06465449184179306, 0.045248791575431824, 0.03414792940020561, 0.023718222975730896, 0.011665873229503632, -0.029684027656912804, -0.013391144573688507, 0.004649200476706028, -0.08515001833438873, -0.007948445156216621, 0.01728077605366707, 0.0035503231920301914, -0.029752403497695923, -0.01020082924515009, 0.05828062444925308, 0.017493577674031258, -0.011113153770565987, 0.027282414957880974, 0.06430480629205704, -0.02667825296521187, -0.033192411065101624, 0.007403546944260597, -0.01849403977394104, 0.002339280443266034, 0.00753151997923851, 0.030135370790958405, 0.04110744595527649, -0.006888195406645536, 0.06887664645910263, 0.028654731810092926, -0.02207857184112072, -0.030690081417560577, 0.07464703172445297, -0.0037688834127038717, -0.017933038994669914, 0.06846529990434647, -0.008857154287397861, -0.03569887951016426, -0.02904321812093258, -0.06534191220998764, 0.006135240197181702, 0.005014281254261732, 0.0013913846341893077, -0.013453995808959007, 0.04373252019286156, 0.018001703545451164, -0.0033671448472887278, -0.06442540138959885, -0.040626466274261475, -0.005938579794019461, -0.014459818601608276, 0.0009399520349688828, -0.0437048077583313, 0.03710828721523285, 0.03529693931341171, -0.0073931352235376835, 0.02831113338470459, -0.007554175797849894, -0.010138382203876972, 0.0024689214769750834, -0.014141383580863476, 0.037774331867694855, 0.00785848032683134, 0.030888736248016357, -0.022520435974001884, 0.004106947686523199, 0.014766080304980278, 0.023803751915693283, -0.006010507233440876, -0.016206203028559685, -0.03060048446059227, 0.05315418541431427, -0.011644627898931503, -0.042756371200084686, 0.004327050410211086, -0.026943055912852287, 0.07214871048927307, 0.008893720805644989, 0.026647433638572693, 0.07525722682476044, -0.032243289053440094, 0.032750263810157776, 0.01673186384141445, 0.01047330442816019, 0.003205436747521162, -0.017177077010273933, -0.0452851839363575, 0.025771835818886757, -0.016058940440416336, 0.012271007522940636, 0.042740728706121445, -0.036405544728040695, -0.005811003036797047, -0.06729742139577866, 0.03320544958114624, -0.026704514399170876, -0.007855840027332306, -0.033053573220968246, 0.003947446122765541, -0.011429238133132458, 0.035605866461992264, -0.02311665192246437, -0.0028696651570498943, -0.06678838282823563, 0.05630256235599518, -0.013692335225641727, -0.027033034712076187, 0.066779226064682, 0.004723042715340853, -0.003708707168698311, 0.02901599369943142, 0.010805124416947365, -0.019899560138583183, -0.002514683874323964, -0.009822774678468704, 0.017031364142894745, 0.027994491159915924, -0.026903823018074036, -0.027985379099845886, 0.014039886184036732, 0.01205464918166399, 0.023027382791042328, 0.044627733528614044, 0.012428075075149536, 0.017362080514431, -0.02732776291668415, -0.009937076829373837, 0.03566723316907883, 0.011097971349954605, -0.0053454008884727955, 0.010935449041426182, -0.04639308527112007, 0.03119468130171299, -0.0010631259065121412, -0.06639915704727173, 0.0004403580678626895, 0.011537179350852966, 0.01805890165269375, -0.042222119867801666, 0.021581055596470833, -0.08690278977155685, -0.010643965564668179, -0.014145247638225555, -0.046867065131664276, -0.01162698119878769, -0.01694171316921711, 0.02022836171090603, 0.021624712273478508, 0.030038803815841675, 0.05513937398791313, 0.0017635776894167066, 0.013031058013439178, -0.0023214248940348625, -0.004300554748624563, -0.05447699874639511, 0.03036501072347164, -0.0046582305803895, -0.03650236129760742, 0.011517491191625595, -0.02550598978996277, -0.039213232696056366, 0.00621160538867116, 0.04569672793149948, -0.029578922316432, 0.021215176209807396, 0.09304085373878479, -0.012260464951395988, -0.047559693455696106, 0.06643077731132507, -0.018536990508437157, 0.007556356955319643, 0.011272582225501537, -0.01984318159520626, -0.012403766624629498, 0.011785794049501419, -0.017732461914420128, 0.030526624992489815, -0.030332351103425026, -0.004604927264153957, -0.013218889012932777, -0.007936539128422737, -0.05413336306810379, 0.025512851774692535, 0.008955160155892372, 0.04921755939722061, 0.0020415910985320807, 0.004845187067985535, -0.0870305672287941, 0.027943864464759827, -0.0355851873755455, 0.05420326814055443, 0.0662553533911705, 0.0006741746328771114, -0.020589331164956093, 0.033757321536540985, -0.014203686267137527, 0.032217517495155334, -0.021347789093852043, -0.058669447898864746, 0.012573267333209515, -0.015119112096726894, 0.03902151435613632, 0.04612511023879051, -0.04909348860383034, -0.0184446070343256, 0.004430677741765976, 0.0679277628660202, 0.005875403992831707, 0.039669450372457504, 0.05963146686553955, -0.0466705821454525, 0.02012324333190918, 0.029172807931900024, -0.006276224739849567, 0.005980328191071749, -0.01413743756711483, 0.02506917156279087, -0.029780177399516106, 0.05096454918384552, 0.00923819001764059, -0.028369076550006866, -0.037278883159160614, -0.03985785320401192, 0.009295887313783169, 0.0187836941331625, -0.012908081524074078, -0.008709932677447796, 0.009399264119565487, -0.023769592866301537, -0.025422073900699615, 0.008920563384890556, 0.030932391062378883, -0.02386985346674919, -0.011347459629178047, 0.002984423888847232, 0.04211981222033501, -0.003113326383754611, 0.02411561645567417, -0.02708011120557785, -0.01532604917883873, 0.04004490748047829, 0.019248170778155327, 0.01629381813108921, -0.045437682420015335, -0.062195368111133575, 0.04637112841010094, -0.02204379253089428], [0.01697845570743084, 0.0181152131408453, 0.010059144347906113, -0.008055503480136395, -0.03246741369366646, 0.0469219945371151, -0.01228427141904831, 0.022431062534451485, 0.003348608035594225, -0.021278072148561478, -0.0427611880004406, 0.07607802003622055, 0.03803004324436188, 0.08429011702537537, -0.027173126116394997, -0.003108891425654292, -0.019426146522164345, 0.07985634356737137, -0.10174528509378433, 0.018820209428668022, -0.06191478297114372, -0.004971836227923632, -0.014208848588168621, -0.02368479035794735, 0.01188167929649353, -0.05278337001800537, 0.031051401048898697, 0.004151816945523024, 0.013335859403014183, -0.017640117555856705, -0.009690272621810436, 0.021890640258789062, 0.015182972885668278, -0.02778341807425022, 0.014571699313819408, -0.036098260432481766, -0.008794944733381271, -0.03165614977478981, 0.00014702703629154712, -0.027679704129695892, -0.03463105484843254, -0.06019071862101555, 0.002955142641440034, 0.051340747624635696, -0.030955400317907333, 0.020129958167672157, -0.028172945603728294, 0.028650641441345215, -0.052576594054698944, 0.05434153601527214, 0.02511632815003395, -0.07513751089572906, -0.020362192764878273, -0.027772320434451103, -0.039620887488126755, -0.06724702566862106, -0.03148966282606125, -0.037404317408800125, 0.05348309874534607, -0.024713272228837013, -0.024074988439679146, 0.007115704007446766, 0.019353367388248444, -0.022922586649656296, -0.006596429273486137, 0.028996547684073448, 0.007335959002375603, 0.004913786426186562, -0.09806923568248749, 0.03369956091046333, -0.015949249267578125, -0.014779554679989815, -0.04033736139535904, 0.06546138972043991, -0.036925286054611206, 0.008950972929596901, 0.02994399331510067, 0.00047221119166351855, -0.02631223015487194, 4.098190038348548e-05, 0.0364459864795208, -0.010038184933364391, 0.0610174797475338, 0.0007974791224114597, 0.04937434941530228, -0.06731615215539932, -0.0027196649461984634, -0.03822941705584526, -0.0992361530661583, -0.006446835119277239, -0.014348462224006653, -0.009336106479167938, 0.055096931755542755, 0.003155340673401952, 0.06365428864955902, -0.01511656679213047, -0.06624230742454529, -0.044055480509996414, 0.08858651667833328, 0.0021839861292392015, 0.04859785735607147, 0.0016739550046622753, -0.033071745187044144, -0.03757588192820549, 0.012946030125021935, 0.09671711176633835, 0.0035822170320898294, 0.01022274512797594, -0.05659019574522972, -0.008209602907299995, 0.039897263050079346, 0.004649309441447258, -0.025997426360845566, 0.019774099811911583, 0.010152405127882957, -0.02900029346346855, -0.02904652990400791, 0.03194018825888634, -0.06881888955831528, 0.02326059155166149, 0.00891477707773447, 0.029010705649852753, -0.014284300617873669, 0.005591035354882479, 0.06950157135725021, 0.05459258332848549, -0.015935208648443222, -0.01228906400501728, -0.04768611118197441, -0.0060829902067780495, 0.01995924301445484, -0.09189312905073166, -0.018141131848096848, 0.06873661279678345, -0.04151239991188049, 0.03982630744576454, 0.04050999507308006, -0.04525306820869446, 0.006447212770581245, -0.005837073549628258, 0.016635771840810776, -0.04196169227361679, -0.008346885442733765, 0.0031061803456395864, 0.004390839021652937, -0.060147032141685486, 0.033641863614320755, 0.04200512170791626, -0.05106882378458977, -0.017027389258146286, 0.010998804122209549, 0.012642035260796547, -0.005131675861775875, 0.003218056634068489, -0.03822972625494003, 0.014107298105955124, 0.030314406380057335, 0.021381067112088203, 0.04481867328286171, 0.014089505188167095, 0.008320855908095837, -0.06644989550113678, -0.04558875411748886, -0.004670033697038889, 0.012719498947262764, 0.014676411636173725, 0.035198818892240524, -0.06750531494617462, 0.0127789955586195, 0.01374207902699709, -0.0021148950327187777, 0.04404354840517044, -0.005438104271888733, 0.01980115845799446, 0.03799916058778763, -0.028640814125537872, 0.021751536056399345, -0.033957697451114655, -0.025947067886590958, -0.0886259451508522, 0.023524027317762375, -0.026058485731482506, -6.352781929308549e-05, -0.03160496801137924, 0.011301620863378048, 0.005369753576815128, 0.0017948452150449157, 4.991620880900882e-05, 0.0833248645067215, 0.017922377213835716, -0.018779464066028595, -0.006364693399518728, 0.02789395861327648, -0.02886371500790119, 0.017637500539422035, -0.05369792506098747, 0.026816796511411667, -0.04813867062330246, 0.019646303728222847, -0.024521922692656517, -0.02569255232810974, 0.009914351627230644, 0.014215493574738503, -0.013824550434947014, 0.01728072203695774, 0.01193470973521471, -0.05561397224664688, -0.010770924389362335, 0.02250036597251892, 0.025064267218112946, -0.08692041039466858, 0.011614510789513588, -0.025771263986825943, -0.044558361172676086, -0.019023260101675987, -0.012306111864745617, 0.06994706392288208, -0.03871062025427818, 0.053504034876823425, -0.025697888806462288, 0.02096438780426979, -0.027442120015621185, -0.0680411159992218, 0.010192942805588245, 0.07576486468315125, 0.04402804374694824, 0.017428478226065636, -0.039405107498168945, 0.009831204079091549, -0.008252953179180622, 0.011250126175582409, 0.03350287303328514, -0.036765206605196, 0.03104984201490879, -0.005790006369352341, 0.05317210033535957, 0.0051259491592645645, 0.028689486905932426, -0.08219847083091736, -0.033613916486501694, -0.03330439329147339, -0.005787737667560577, 0.055124226957559586, -0.030448218807578087, -0.04670049995183945, 0.01717768795788288, -0.06396479904651642, 0.016468781977891922, -0.003400080604478717, -0.046737801283597946, -0.017915502190589905, 0.01577278971672058, -0.022128645330667496, 0.027878664433956146, -0.020503029227256775, 0.016040170565247536, 0.00035153035423718393, 0.037155237048864365, -0.051608286798000336, -0.06909123808145523, 0.061395030468702316, -0.01488348189741373, 0.0062669808976352215, -0.02968270145356655, -0.010325790382921696, -0.09143351763486862, -0.045070718973875046, -0.005844872910529375, 0.03899342194199562, -0.026272084563970566, 0.04205115884542465, -0.017553027719259262, 0.01476813293993473, -0.07540430873632431, -0.0415324792265892, 0.03329797089099884, 0.012092428281903267, -0.0034287991002202034, -0.04291488975286484, -0.011424297466874123, 0.05766139551997185, 0.00872993003576994, 0.01565307378768921, -0.021482154726982117, 0.017452018335461617, -0.00037249349406920373, -0.012160263024270535, -0.005472105927765369, -0.02534138225018978, -0.06982415914535522, 0.00892691034823656, 0.019424790516495705, -0.06081801652908325, -0.06956005841493607, -0.012281890958547592, -0.026700539514422417, 0.03831265866756439, 0.023101037368178368, -0.005531826056540012, -0.0362793505191803, -0.050797175616025925, 0.060781337320804596, -0.04065295681357384, 0.06981389224529266, -0.03634287789463997, 0.03378865867853165, 0.044252365827560425, 0.026852695271372795, -0.02682560123503208, 0.07042033225297928, -0.01941526308655739, 0.0019295010715723038, -0.05705203115940094, -0.03118680976331234, -0.031620465219020844, 0.02559099905192852, -0.07720634341239929, 0.034224700182676315, -0.036246344447135925, 6.312119512585923e-05, -0.007587676402181387, 0.022619737312197685, -0.06743345409631729, -0.014467203989624977, 0.09737719595432281, -0.03722236678004265, 0.01740739867091179, 0.04865681752562523, 0.02992674708366394, 0.003295039990916848, 0.05297083035111427, 0.03830200433731079, 0.03412986919283867, -0.028074370697140694, -0.0326349213719368, -0.006686003878712654, -0.042300034314394, 0.03244452923536301, 0.026326924562454224, 0.014467507600784302, 0.03326130285859108, 0.025887366384267807, 0.007597653195261955, 0.015990206971764565, 0.013223845511674881, 0.0594378262758255, -0.046929094940423965, -0.00751890055835247, -0.0006930258823558688, 0.0015424956800416112, 0.009881997480988503, 0.034976035356521606, 0.03537128493189812, -0.016733653843402863, -0.016970477998256683, -0.007217534352093935, 0.05598001927137375, -0.02634328044950962, 0.05223185196518898, -0.019299883395433426, -0.0028560885693877935, -0.0010851792758330703, 0.01134372130036354, -0.03783038258552551, -0.00028480603941716254, -0.01985100470483303, -0.015426774509251118, 0.01603727787733078, -0.018506910651922226, -0.007005935534834862, -0.003221604274585843, -0.03358934074640274, 0.03789370879530907, -0.010542182251811028, 0.03808014094829559, -0.03933319076895714, -0.022631656378507614, 0.05188422650098801, -0.01396255288273096, 0.0028764090966433287, -0.0008418860961683095, -0.0528801791369915, 0.013578340411186218, 0.012213664129376411, -0.01678522676229477, 0.02610773593187332, -0.01519901491701603, -0.004771011415868998, 0.02915080264210701, 0.07882644236087799, -0.002733799861744046, 0.05772707238793373, -0.007186421658843756, 0.005506363231688738, 0.009972690604627132, -0.0016088024713099003, -0.0074680563993752, -0.030680272728204727, -0.016391422599554062, 0.01793978363275528, 0.0023774756118655205, 0.0329500250518322, 0.10196124017238617, -0.040676794946193695, 0.024007214233279228, 0.01323215663433075, 0.0020906219724565744, -5.534027150133625e-05, -0.03323544189333916, -0.04879632592201233, -0.03990788385272026, -0.05183066427707672, -0.0856965109705925, -0.03377882391214371, 0.027630409225821495, 0.0539928674697876, 0.03175438567996025, 0.039843179285526276, -0.0007695883396081626, 0.08071085065603256, 0.007450771052390337, -0.010499800555408001, 0.02368471398949623, 0.011519916355609894, -0.0018802942940965295, -0.018903657793998718, -0.015389883890748024, 0.027597619220614433, -0.0005256572039797902, -0.005576734431087971, 0.006266891025006771, -0.03012145310640335, 0.010252606123685837, -0.026853784918785095, -0.05078243836760521, 0.049693431705236435, -0.01359547208994627, -0.009827583096921444, 0.06849238276481628, -0.013366124592721462, -0.02880299836397171, -0.0008752159192226827, 0.021663814783096313, 0.030511151999235153, 0.02331586740911007, 0.03722795471549034, 0.059988971799612045, 0.02147267572581768, -0.0039859130047261715, 0.03374427929520607, -0.019833676517009735, -0.0028912643902003765, 0.0019530337303876877, -0.05420931801199913, -0.03126811608672142, -0.01451130397617817, 0.017916426062583923, 0.007527630310505629, 0.020382871851325035, -0.02446519210934639, -0.016082199290394783, -0.005829195026308298, 0.028132455423474312, 0.03509782627224922, 0.012116499245166779, -0.01642637886106968, 0.05880492925643921, 0.026202306151390076, 0.0031153573654592037, 0.016430189833045006, 0.05302105471491814, 0.021976836025714874, 0.04385330155491829, 0.0015784638235345483, -0.030077915638685226, -0.0005190014489926398, 0.02825847826898098, 0.016594626009464264, 0.06797628104686737, -0.03240691497921944, 0.037028104066848755, 0.02265336737036705, -0.035588283091783524, 0.03435266390442848, 0.07127441465854645, -0.006321586202830076, -0.04065551608800888, -0.010720471851527691, -0.017133403569459915, 0.02797556482255459, 0.030797678977251053, 0.02857203222811222, -0.026368943974375725, -0.07646580040454865, -0.023790203034877777, 0.011347468011081219, 0.09068640321493149, -0.0025388032663613558, 0.027139078825712204, 0.025095701217651367, 0.05900292843580246, 0.014771725051105022, 0.011362257413566113, -0.099528007209301, 0.01738068461418152, -0.0044133421033620834, -0.025847118347883224, -0.03130434453487396, 0.08264154195785522, 0.0348210372030735, 0.007356380112469196, -0.025006501004099846, -0.01565493457019329, 0.034926075488328934, -0.028597192838788033, 0.008076915517449379, -0.03276352211833, 0.048940155655145645, -0.027807917445898056, 0.041721243411302567, 0.0013701383722946048, -0.06374721229076385, 0.021026011556386948, 0.024408910423517227, -0.006597587838768959, -0.007602142170071602, -0.02879653312265873, -0.03327929601073265, 0.017000405117869377, -0.09144920110702515, -0.009200177155435085, -0.003809242509305477, 0.024935973808169365, 0.00274712685495615, -0.024102769792079926, 0.0688425675034523, 0.04077177122235298, -0.013315065763890743, 0.054236914962530136, 0.05604728311300278, 0.02657814882695675, -0.027788938954472542, 0.01979411207139492, 0.00036578968865796924, 0.024777904152870178, 0.004968936555087566, 0.04564841836690903, 0.08195602893829346, -0.011225979775190353, 0.0673103854060173, 0.028340332210063934, -0.04018229991197586, -0.038098279386758804, 0.0801360085606575, -0.0021480778232216835, -0.023003777489066124, 0.0832110270857811, -0.016611330211162567, -0.03554422780871391, -0.03708441182971001, -0.035773176699876785, -0.008591496385633945, 0.015757890418171883, 0.0030771049205213785, -0.003189451526850462, 0.029124099761247635, 0.00254825665615499, 0.016419224441051483, -0.046058040112257004, -0.040971264243125916, 0.014634800143539906, -0.0005256394506432116, -0.004110830835998058, -0.04025132954120636, 0.012196849100291729, 0.05149185284972191, -0.019435405731201172, 0.041493453085422516, 0.000582568405661732, -0.009311363101005554, -0.010276930406689644, -0.04292413592338562, 0.04349789768457413, 0.03613662347197533, 0.01873999461531639, -0.015153170563280582, -0.016972608864307404, -0.013724776916205883, 0.009741343557834625, -0.02878376841545105, -0.059942808002233505, -0.05650648474693298, 0.05855637788772583, -0.01730218343436718, -0.011825037188827991, -0.020204821601510048, -0.036912497133016586, 0.06566078215837479, -0.005956331267952919, 0.02181553840637207, 0.0776309221982956, -0.055453069508075714, 0.03026503510773182, 0.01829420030117035, -0.025852734223008156, 0.006300829816609621, -0.038127169013023376, -0.02231614664196968, 0.003395860083401203, 0.013013795018196106, -0.0036317009944468737, 0.05812062695622444, -0.04426654428243637, -0.002827481599524617, -0.08212019503116608, 0.04408681392669678, -0.005367463920265436, -0.0004580244712997228, -0.03998525068163872, 0.022222045809030533, -0.017981449142098427, 0.044070322066545486, -0.008805067278444767, 0.014638418331742287, -0.050645604729652405, 0.03383360430598259, -0.011198035441339016, -0.059071969240903854, 0.06147690489888191, -0.014920739457011223, 0.0036408379673957825, 0.03255608305335045, 0.03296560049057007, -0.014417588710784912, -0.02040514163672924, 0.0353371687233448, 0.011178681626915932, 0.018090518191456795, -0.041713159531354904, -0.05258684605360031, 0.011011584661900997, 0.019739864394068718, 0.014139721170067787, 0.02432440035045147, 0.01877354085445404, 0.018144438043236732, -0.03166602551937103, -0.031244944781064987, 0.02855495549738407, 0.01674073562026024, -0.040552783757448196, -0.01228580716997385, -0.04655139148235321, 0.036791056394577026, -0.019693518057465553, -0.05802363157272339, -0.004057098645716906, 0.016364969313144684, 0.017673935741186142, -0.05617070570588112, -0.0016242236597463489, -0.08307714015245438, 0.015561621636152267, -0.017150945961475372, -0.06755280494689941, -0.034233421087265015, -0.0508856438100338, 0.03198043629527092, 0.014240319840610027, 0.0288432277739048, 0.04176696389913559, 0.025836249813437462, 0.006569476332515478, 0.0027193808928132057, 0.017912885174155235, -0.039544958621263504, 0.03695409372448921, -0.025984741747379303, -0.02827758528292179, 0.024695146828889847, -0.015145828947424889, -0.05345236137509346, 0.0009728157892823219, -0.0005447443691082299, -0.023158889263868332, 0.004895519465208054, 0.08996560424566269, -0.018695518374443054, -0.05930636450648308, 0.05304749310016632, -0.02322174422442913, 0.03094460628926754, -0.0031156630720943213, -0.02121354453265667, -0.019490806385874748, 0.0012029045028612018, -0.028249457478523254, 0.014264760538935661, -0.06629925966262817, 0.02192259207367897, -0.0054117473773658276, -0.0031327917240560055, -0.0772961899638176, 0.013614458963274956, 0.012331771664321423, 0.04981016740202904, 0.004856518004089594, 0.007056561764329672, -0.06872978061437607, 0.02830415591597557, -0.036166466772556305, 0.053941093385219574, 0.07580409198999405, -0.018614884465932846, -0.008508777245879173, 0.012657538056373596, -0.014513897709548473, 0.03767943009734154, -0.005268537905067205, -0.05708770453929901, 0.015200006775557995, -0.02229520119726658, 0.041947878897190094, 0.04115762189030647, -0.01918267086148262, -0.02832769975066185, 0.0045308698900043964, 0.0683668926358223, -0.007750234566628933, 0.02917393669486046, 0.06461954861879349, -0.05878922715783119, 0.0204909760504961, 0.03917277604341507, -0.0019038005266338587, -0.011194317601621151, -0.029577866196632385, 0.013013447634875774, -0.014896334148943424, 0.021090416237711906, 0.0031212668400257826, -0.004775173496454954, -0.06348799169063568, -0.02268773503601551, 0.01496676355600357, 0.012987380847334862, -0.012840179726481438, -0.007189912721514702, 0.03970840945839882, -0.01123475655913353, -0.018491078168153763, 0.013433411717414856, 0.04826577007770538, -0.042728934437036514, -0.02689443714916706, 0.003849839558824897, 0.03871772438287735, 0.027966341003775597, 0.04482691362500191, -0.030224604532122612, -0.012369275093078613, 0.056763842701911926, 0.003325269790366292, -0.0019085283856838942, -0.04911769926548004, -0.05675389990210533, 0.05414784699678421, -0.028084054589271545]]\n"
          ]
        }
      ]
    },
    {
      "cell_type": "code",
      "source": [
        "import numpy as np\n",
        "\n",
        "def cosine_similarity(a, b):\n",
        "    return np.dot(a, b) / (np.linalg.norm(a) * np.linalg.norm(b))\n",
        "\n",
        "print(f\"Cosine similarity between Gemini and Llama: {cosine_similarity(embeddings[0], embeddings[1])}\")"
      ],
      "metadata": {
        "colab": {
          "base_uri": "https://localhost:8080/"
        },
        "id": "nOYfYQorKYzh",
        "executionInfo": {
          "status": "ok",
          "timestamp": 1728418813120,
          "user_tz": 240,
          "elapsed": 122,
          "user": {
            "displayName": "",
            "userId": ""
          }
        },
        "outputId": "66a21d79-2c76-4d7f-9f45-6b24570f31af"
      },
      "id": "nOYfYQorKYzh",
      "execution_count": null,
      "outputs": [
        {
          "output_type": "stream",
          "name": "stdout",
          "text": [
            "Cosine similarity between Gemini and Llama: 0.8873307031556693\n"
          ]
        }
      ]
    },
    {
      "cell_type": "markdown",
      "source": [
        "## Multimodal Embeddings"
      ],
      "metadata": {
        "id": "A0N6bvFeNWWH"
      },
      "id": "A0N6bvFeNWWH"
    },
    {
      "cell_type": "markdown",
      "source": [
        "Submit request for embeddings for our image above."
      ],
      "metadata": {
        "id": "Nqcp3A1Pm8V3"
      },
      "id": "Nqcp3A1Pm8V3"
    },
    {
      "cell_type": "code",
      "source": [
        "from vertexai.vision_models import Image, MultiModalEmbeddingModel\n",
        "\n",
        "mm_embed_model = MultiModalEmbeddingModel.from_pretrained(\"multimodalembedding@001\")\n",
        "image = Image.load_from_file(\n",
        "    f\"gs://{bucket}/{path}\"\n",
        ")\n",
        "\n",
        "embeddings = mm_embed_model.get_embeddings(\n",
        "     image=image,\n",
        "     dimension=1408,\n",
        ")\n",
        "\n",
        "print(embeddings.image_embedding)"
      ],
      "metadata": {
        "colab": {
          "base_uri": "https://localhost:8080/"
        },
        "id": "JS8mR4XNmObO",
        "executionInfo": {
          "status": "ok",
          "timestamp": 1728580031490,
          "user_tz": 240,
          "elapsed": 833,
          "user": {
            "displayName": "",
            "userId": ""
          }
        },
        "outputId": "ef4a4933-91a1-409b-ca02-2ff99aef994c"
      },
      "id": "JS8mR4XNmObO",
      "execution_count": 11,
      "outputs": [
        {
          "output_type": "stream",
          "name": "stdout",
          "text": [
            "[-0.0307535902, 0.0663451478, 0.00039965121, -0.0133614717, -0.01158523, 0.00956290495, -0.0148635954, 0.00991722289, -0.00952775404, 0.0216662288, -0.00184198271, -0.00692347856, -0.00209274306, 0.0239845589, -0.0241318792, 0.00888424087, 0.0213088058, 0.00298213074, -0.0152266948, 0.00573292421, -0.0654595494, -0.00254638889, -0.0256708227, 0.0325338282, 0.0139670465, -0.00856351107, 0.00459125685, -0.04984257, -0.00347612891, -0.0140422843, 0.00258276798, -0.00690976065, 0.00356700318, 0.00684762839, -0.0202094503, 0.0328759812, 0.0267247576, -0.00220636488, -0.0146312425, -0.0317490846, -0.0412844643, -0.0162757412, -0.00632089889, 0.00376184424, -0.0366866142, -0.024912104, 0.00494088698, -0.0063445284, 0.0419526212, 0.0298118033, 0.0360693522, 0.0294797942, 0.0130343111, 0.020901246, -0.000886910362, -0.0126485471, 0.048061803, 0.0250173137, -0.04048305, -0.0258590877, -0.0162841193, -0.0504531749, -0.0019534335, -0.0186721161, -0.000216234956, -0.0397800058, -0.0255563837, -0.054493688, 0.0231399499, 0.00225327862, 0.0425209776, -0.0225826204, 0.00495626172, 0.00126021227, 0.00834691525, -0.00428441027, -0.0197332464, -0.0149188321, -0.0289424509, -0.0127931582, 0.000473915221, 0.00910119712, -0.00600907952, -0.0404803865, 0.0139340637, 0.00901887473, 0.000401901954, -0.00365997897, 0.0149702374, -0.00507603073, 0.011314787, 0.0147510991, 0.0372725949, -0.227006763, 0.00606149761, -0.0106679648, 0.0460750237, -0.0241015647, 0.0152549185, -0.0305277593, 0.0115925372, -0.0146610914, 0.0568943284, 0.0322821699, 0.0166503638, 0.0217644963, 0.00278544775, -0.0283144489, 0.0285652839, -0.0207721777, -6.57437631e-05, -0.0142463464, 0.0133336205, -0.0251038373, 0.028653089, -0.0139660556, 0.0210826509, -0.00587180583, 0.0123767033, 0.0191742983, 0.0389350951, 0.0110839522, -0.0200266987, -0.0126847113, 0.0175329242, -0.0980465934, -0.00958706252, 0.000895243662, -0.0384222381, -0.00817116443, 0.00469656708, -0.0485008135, -0.0272701979, -0.0226641633, 0.0148429787, -0.0188420769, 0.00541189825, -0.00521758897, -0.0203237645, -0.00366816018, -0.0156249572, 0.0209452193, -0.0111336317, -0.0177236404, 0.0129427947, -0.0224412233, -0.0166675318, 0.014640959, -0.0541245453, 0.0402552634, -0.0100086043, -0.0372484922, -0.0367260873, -0.00824582297, -0.0237959661, -0.00425507966, 0.0249287747, -0.00221431348, -0.0140693383, 0.00881541, -0.0015634622, -0.0410265736, -0.0165687352, -0.0368265137, 0.0158362333, -0.0156309251, -0.00645994069, 0.0346072279, 0.0309211388, 0.0075291153, -0.00348492968, -0.0614597388, 0.000761429314, -0.0159952566, -0.00570333889, -0.0182420798, 0.0456139818, 0.0504632778, 0.00602467917, -0.00116991135, 0.0129290139, 0.00639059208, 0.0283957049, -0.0224305894, -0.0119453743, 0.00433802651, -0.0498688, 0.0137871178, 0.00290562515, 0.00947569218, -0.0217762943, 0.000374530879, -0.0350190327, -0.0161063764, -0.0184982177, -0.018507801, 0.0364099927, -0.0042758151, -0.0168758631, -0.00546186464, -0.0341392867, 0.00885722134, -0.0444045067, -0.00245192484, -0.0244433172, -0.037112236, -0.0128050409, 0.0134510314, 0.00599253923, 0.0380230695, -0.0353925936, 0.00120323803, -0.0165950563, -0.00679290062, -0.00825590733, 0.0110500455, 0.0120847523, 0.0187820829, -0.024881782, 0.0513783842, -0.0279497989, 0.00728806946, -0.0128067145, 0.0200391207, -0.0170831606, -0.0548413247, 0.0526092909, 0.0201019552, -0.0318217799, -0.0346891098, 0.00380667415, -0.0222523659, -0.0330748148, 0.0366290659, -0.0100738714, 0.0128345937, -0.000987384352, -0.0116924793, -0.0358703546, 0.00254486781, -0.0130166318, 0.0202652197, -0.0158556402, 0.00339119928, 0.00195829314, -0.00880173594, 0.0220187306, -0.0214115065, 0.0158348326, 0.00648217462, -0.0341357924, 0.0260057095, 0.00664449343, -0.0144028682, -0.0174524952, 0.0275625866, -0.00861623138, 0.0276963729, -0.0167166647, 0.00131657498, -0.00409123208, -0.0177602414, 0.0447630771, 0.0167264938, -0.0173705108, 0.0269488301, -0.00565179624, -0.000230086618, 0.00629204419, -0.00196157745, -0.0411103182, -0.0156459641, 0.0305095688, -0.00979085267, -0.0315326639, -0.0150397262, -0.0220416728, 0.0124056982, 0.0134559572, 0.189099953, 0.0152000384, -0.00372183649, -0.0147371488, -0.0409724936, -0.0182782039, -0.0128257284, -0.13031283, -0.000626239227, -0.0178678241, 0.0594190806, 0.00735846488, -0.0185392424, -0.0461945646, -0.00590648875, 0.00597406924, -0.000690450368, 0.011715129, 0.0238360055, 0.00358669669, 0.0286336802, -0.0230275877, -0.0196177606, 0.020380009, -0.0479992, -0.0105146402, -0.00357211614, -0.0235904139, -0.00546831498, -0.0171126649, 0.020617241, -0.022218572, 0.0320864394, -0.00234795478, -0.0117150825, 0.013180241, 0.025332, 0.0314794704, 0.0284108371, -0.026083719, 0.0135982493, -0.0125051513, 0.00595788285, 0.0191339105, 0.00757119106, -0.0219996814, 0.0372179262, -0.0111616105, 0.0251107328, 0.040580634, -0.0203315634, 0.00983161759, 0.019798167, 0.0260049347, -0.0236842018, -0.00100670382, 0.0380186737, 0.00558833312, -0.0211702157, 0.0231921598, 0.0209353901, -0.0162786618, -0.0164426938, -0.0135546792, -0.0113661475, -0.00121328293, 0.00854278915, 0.000873629237, -0.0129094394, -0.00817713793, 0.018878337, 0.00670337444, -0.00414033094, 0.0215963256, -0.0219130833, 0.0136667788, -0.0162793621, 0.0219555199, -0.00835138094, -0.00843670499, 0.0137221087, 0.0405141823, 0.00752279582, -0.00471744966, 0.00797304418, 0.0103473375, -0.0240838975, -0.0108316969, -0.00986588374, -0.0354249962, -0.00928455777, -0.0185342468, -0.0259865243, 0.051842235, -0.0389290564, 0.0233794283, 0.0280148908, 0.0209678542, 0.0158545468, 0.0563599654, 0.0191352349, 0.0338018201, -0.0223582909, 0.0336048603, 0.0141099636, -0.00540459622, -0.023127785, -0.0595964193, 0.0114026088, 0.000685607665, 0.0339962542, 0.000665211875, -0.00206140126, -0.0139505425, 0.0380348377, 0.0225936435, -0.0303581, -0.00108350592, -0.0237823185, -0.0107755372, 0.0205723513, 0.0211061351, -0.0302468278, -0.0182797015, -0.00836696848, -0.0144266691, 0.0243118, -0.0439377241, 0.0391469151, -0.00306683755, -0.0121155344, 0.0396518707, -0.0148708019, 0.0206531361, -0.014080951, 0.00880967733, -0.000684651546, -0.00746344822, -0.0150677972, 0.00726318778, 0.00301994197, -0.0109225139, -0.00783495326, 0.0289664175, 0.00523199281, 0.0200879667, 0.0262756534, 0.0399801396, -0.0324011967, -0.00580774434, 0.0408204608, -0.00910697598, -0.0626092702, -0.00985513162, -0.0281312093, -0.00642186264, 0.005736263, -0.000694051094, -0.0159476325, -0.00017256006, -0.018789703, 0.00680465577, 0.000642209488, -0.0101343039, -0.00263684196, -0.016154388, 0.0330472738, 0.00389511813, -0.0214463565, -0.000287277217, 0.00722610345, 0.00533884298, 0.0164481066, -0.00291100796, 0.029753942, 0.0143962111, 0.0116740866, -0.0100230277, 0.0160185229, -0.00298715988, 0.0186392162, -0.0196107104, 0.0224552266, 0.0244362839, -0.0185624789, 0.0295974556, -0.00929251593, 0.00222875108, 0.00805404875, -0.00710035209, -0.00520436, 0.0461312942, -0.00722793024, 0.0622154213, 0.0636466444, 0.0298818313, -0.011664696, 0.00690304535, 0.00668584043, -0.00630639307, -0.0205954, 0.0479225256, 0.0150621971, -0.0218460876, -0.00784602575, -0.0272191875, -0.00209325226, 0.0051409197, 0.0348028243, 0.00848150812, -0.0138039384, -0.023663789, -0.0357315503, -0.048942, -0.0158131141, 0.00792771857, -0.00159875315, 0.00556831434, 0.0513858683, 0.0199598595, -0.00920941681, -0.0188456476, -0.0080320267, 0.0846679658, -0.00603565387, -0.025251409, 0.0148533909, -0.0398649275, 0.00798121188, -0.0126133161, -0.0148624722, 0.00255066529, 0.00325471372, 0.00444340054, 0.0252548642, 0.00657212781, -0.0337596, 0.0202476569, -0.0246491507, -0.0172618944, 0.0190592241, 0.0089691449, 0.0301373731, 0.00381503464, 0.0459463298, -0.0172589701, -0.00102877081, 0.00130982837, 0.00843590405, 0.0346829332, -0.0438169539, 0.0465417653, 0.00164547772, 0.0201701187, -0.0218605138, -0.02004271, -0.0166767295, -0.0567146875, -0.0525516, -0.00142746617, -0.00793407951, -0.00541092176, -0.00762990816, 0.0088191824, -0.0264731515, -0.0163940508, 0.0181418713, 0.0202234965, -0.00695282128, 0.00893903058, 0.0154530993, 0.0433096588, -1.50221513e-05, -0.00999399088, -0.0129487868, 0.00456073, 0.0164944176, -0.00809372403, 0.0122234328, -0.0182620585, -0.0280594956, -0.00126054126, 0.0231092088, -0.0571465231, -0.0151838195, 0.00688409526, -0.0335052237, -0.0347652882, -0.0150028635, -0.0119021293, -0.0107070683, -0.00263028033, -0.0257256217, -0.0296587646, 0.00417394098, -0.0155906985, -0.0358130597, 0.0181702711, -0.00129412301, -0.00933752488, -0.00760203693, 0.00371087715, 0.00701453, -0.00640944578, 0.0426390953, 0.0311791543, 0.0399369784, -0.0158573259, -0.0078573022, 0.013875166, 0.017655449, 0.022508556, -0.0326624773, -0.00790807325, 0.04879985, -0.00845999736, 0.00244244537, -0.00573986862, 0.00898447447, -0.0342270173, -0.0306382962, 0.0405102298, -0.0163542572, -0.04785778, -0.038592387, 0.0270907, 0.029365072, 0.0106617613, -0.0309313945, -0.00491269492, -0.0243476238, -0.000535173225, -0.0326698385, -0.0179604311, 0.0141053749, 0.0295798928, 0.0211441536, -0.0144913374, -0.0167268924, 0.0259770155, 0.0232721735, 0.0151817165, -0.00690733502, -0.00901221763, 0.00864305, -0.00731595559, 0.00304229138, 0.013747287, -0.00766468653, 0.00856265891, -0.000970390916, 0.00548459, -0.000562194851, 0.0170094371, 0.0057662772, -0.025671795, -0.0519422069, -0.0364562906, -0.00554661, -0.00881056767, 0.0202848632, 0.0279039629, -0.0388839282, -0.0265811086, 0.0245220717, -0.0508473329, 0.0442005321, -0.00664917519, 0.00785417296, 0.0406287313, -0.00239104894, -0.0305064712, 0.0573274903, 0.00443058461, -0.00770962611, 0.0221764892, 0.0391396321, -0.0219691601, 0.0114476467, 0.0299846902, -0.0143663213, -0.182409108, -0.0136475796, -0.00708020339, 0.00286975666, -0.00556128426, -0.00713996729, 0.00724062696, 0.0103245387, 0.010015904, -0.0316348933, -0.012772358, 0.00570379943, -0.240220189, -0.0154477628, -0.014477225, 0.010292518, -0.0154355699, 0.00789364893, -0.0365718976, 0.012848217, 0.00387655478, 0.0225403812, 0.0246100016, -0.0182977282, -0.00107705197, 0.00920605939, 0.00116768794, 0.00898328051, 0.0099127749, 0.0322259851, -0.00505288318, -0.0112022487, 0.0434916392, -0.0228855666, -0.0269794967, 0.0197769161, -0.0239054244, -0.0054818741, 0.0287279338, -0.0209281836, -0.00227838312, -0.000357147568, 0.0164019987, 0.0381779373, -0.0276826173, 0.00684020622, 0.00108709396, -0.0102252588, -0.0246561803, -0.139106452, 0.0218402073, -0.0107053081, -0.0222707558, -0.00282895844, -0.011815777, 0.0845275, -0.00234911288, 0.0306104142, -0.051784873, 0.013052566, 0.017999066, 0.0428343974, -0.0275960788, 0.0204426013, 0.0219085738, -0.00966328848, 0.0383111574, 0.028765928, 0.00375958881, 0.0208706129, -0.0203685388, -0.0441910811, 0.0287473891, 0.0485410094, -0.000790653809, -0.00906014536, 0.0308814887, -0.0326396935, 0.00526936352, -0.0196302682, 0.048851043, 0.055782076, -0.0227597691, 0.0274850074, -0.00263450015, -0.00848253444, 0.00887130573, -0.00141946, -0.116235942, 0.0198564623, 0.0358931571, -0.0214100573, 0.00573495543, 0.00684538065, -0.0180291608, 0.00526627805, -0.0248343907, 0.0267900527, 0.00304165692, -0.0184653774, -0.0179662928, 0.0146970525, 0.039368026, -0.0115557732, -0.00163307635, -0.0372557379, 0.0035876662, -0.0245322939, 0.00616601668, 0.00648732437, 0.0367734246, -0.0642029941, -0.0488764159, 0.00955493376, 0.000172224754, -0.0152058331, 0.0326516852, -0.0227382239, -0.0511337966, 0.00398114789, 3.93175469e-05, 0.00116472272, 0.0411500484, 0.00184776774, -0.01683571, 0.00162604044, -0.0253912639, 0.0173948742, 0.0197858848, 0.00785405841, -0.027885953, 0.0182440672, -0.0291078892, -0.00446083257, 0.00705639, 0.0284590982, -0.0418596566, -0.037310157, 0.00829785597, -0.0335413739, -0.0203475, 0.0124347992, -0.00762754818, -0.0374004915, 0.0360760242, -0.0157652255, 0.016899582, 0.0330364406, 0.0359817557, 0.0217966, -0.0434875526, 0.0217075497, 0.0116027538, -0.0299813375, -0.0130162127, -0.0114248153, -0.0208579674, -0.00493087247, -0.00646780152, -0.0205421336, 0.0158689525, -0.00695814798, 0.0432005115, -0.0042819716, -0.0153589128, 0.03221827, 0.0319738723, 0.0285428278, 0.0207833871, -0.00859045517, -0.00458529545, 0.0158899296, 0.024382744, 0.0154303499, 0.0287561435, -0.0279323403, -0.047296606, 0.0334664881, 0.000530904, 0.0296099856, 0.010250845, 0.0204743501, -0.0359803662, 0.0271797571, 0.0101808971, 0.00582159637, -0.0381722376, -0.0479794107, 0.0251245648, 0.00257385545, 0.0003355628, -0.00471797306, -0.0336911865, -0.0082620047, -0.0120159183, -0.0110562714, 0.0094493581, -0.0304459166, -0.0169467945, -0.0339053422, -0.0270197727, 0.0143517759, -0.000710377586, 0.0172358472, -0.00221955148, 0.0346351415, 0.0193168372, 0.000536537205, -0.0080904467, -0.00924324058, 0.00733119156, 0.00720356544, 0.0101837516, -0.00200078334, -0.00815948751, 0.000275243772, -0.0299700256, -0.0390427485, 0.0129350945, -0.0268199202, -0.0180418864, 0.000968124485, 0.0447384752, -0.0117732361, 0.00362941064, -0.0302794874, 0.0019380243, -0.000841809437, -0.0253268611, -0.0369730927, -0.00592159666, 0.0139410133, 0.00590439746, 0.0394441523, 0.0322599187, -0.0403661579, -0.00756012416, 0.0148461107, 0.0346890539, -0.0139926905, 0.0271301586, -0.0435529612, 0.005071586, -0.0313489363, 0.0161580015, -0.0250606295, 0.00653979229, 0.0111548975, -0.014471733, -0.0199534036, 0.0121700345, 0.0151703572, -0.0175922606, -0.0102130119, 0.0312485788, 0.0263056662, -0.0267713256, -0.00393129513, -0.0199767184, -0.0254594758, -0.00230779056, -0.0063871881, -0.0350567251, -0.0441852622, -0.00486239325, -0.00846706051, -0.00307030883, -0.0412990525, -0.0103244167, -0.0160108432, -0.0173041318, -0.0408219919, 0.0619779751, 0.00491373427, 0.00632162252, 0.00920339115, -0.0219006315, 0.0138959074, 0.0171789322, 0.0122060841, -0.0157282595, -0.0157193318, -0.0107424865, -0.00815462135, -0.00533585437, -0.0165580679, 0.0264166016, 0.000246929587, 0.0354448296, 0.00676899, -0.0230613668, 0.00285031926, 0.00242466014, 0.0112956418, 0.0417513214, -0.00852003, -0.0225224923, 0.025200462, 0.00361240492, 0.0255766343, -0.0276752654, 0.0417542048, 0.0225711819, -0.0400858857, -0.0100431386, -0.00973788556, 0.0100641837, -0.0245097578, -0.00768248, -0.00847346429, 0.00225109188, 0.0196085349, 0.00566711603, 0.021807842, -0.0152396131, -0.009832385, 0.000248163065, -0.00385969225, 0.0165746231, -0.0137270363, -0.0494271815, 0.0329871625, 0.0105593279, 0.0039313687, 0.0123590948, -0.00630052574, -0.0389369428, -0.0289141648, -0.00537559064, 0.00798472483, 0.00579750352, -0.02537103, -0.0359676853, 0.0124887768, 0.0121557573, -0.0233489461, 0.01052038, -0.0331292227, 0.00615425967, -0.00914433505, -0.00178702164, -0.0267103184, -0.0020425932, 0.0140102981, -0.0350620523, -0.00285980687, 0.0155042605, -0.0135416966, 0.00995644089, -0.03123728, 0.0286784805, 0.0318100713, 0.00400786102, -0.0116220536, 0.0158960335, 0.0117168864, -0.00464869151, -0.00836549327, 0.00714479666, -0.0141741028, 0.0187999457, 0.00229602447, -0.0367335938, -0.00949443504, -0.0153270084, -0.0256642681, 0.0113167949, -0.00508673349, -0.00129620719, 0.0415132381, 0.031343054, -0.03277288, -0.00811557751, 0.00892382953, -0.00744028203, -0.00428706827, 0.0288844984, 0.0431935042, 0.00228339178, 0.0476779602, -0.00918632, -0.0310073905, -0.0159210842, -0.0128595, 0.00498170825, 0.0172955543, -0.012967, 0.00189862191, -0.0361337736, -0.0210512262, 0.00196914398, 0.00970579684, -0.021108754, -0.00402617734, -0.00965378433, 0.0397305451, 0.0065925871, -0.0426552407, -0.00336824846, 0.0192289706, 0.0417254157, 0.00535309641, 0.00398109062, -0.0178858284, 0.00757438131, 0.0159054305, 0.00483401492, -0.0315760337, 0.0145263327, -0.0166597348, 0.0280492231, 0.00144883187, 0.0360156111, 0.0174485594, -0.0272793751, -0.0171079338, 0.00364250783, -0.0129494155, 0.00899180397, -0.042122364, 0.00195939816, 0.00198009517, -0.0202691462, 0.0190255977, -0.0352905467, -0.0185595732, -0.0417142, 0.0119163757, 0.0295889806, -0.0212665517, 0.0293775629, -0.00791475177, -0.0121025322, 0.021181779, -0.0192724746, -0.0220771357, -0.00443427684, 0.020311987, -0.00980617292, -0.0123777, -0.00691658957, -0.00357836438, 0.0168755762, -0.0127535304, 0.0172889624, 0.00555473147, -0.0220380016, -0.01421702, -0.0112986639, -0.0164884906, 0.0184623357, -0.0264767446, -0.0191597939, -0.0177387763, 0.00602729246, 0.0318238363, -0.00109850068, 0.0359226428, -0.00695523294, 0.00569912419, 0.0081041418, -0.00295105507, 0.0105110956, 0.0441182703, -0.0490868, -0.0465284176, -0.000268769305, -0.00937728863, 0.0219920557, 0.0276985597, -0.0250526574, 0.00604843721, -0.0193306077, 0.00505567109, -0.0154306451, -0.0323280841, -0.00621520774, 0.0315129086, 0.00473599648, -0.0330830142, 0.00670488738, -0.0354318097, 0.00533143198, 0.0100695016, 0.0171947423, -0.0166852511, -0.0198809579, -0.0262083765, -0.00832890347, 0.0117747048, -0.0219584294, 0.00962269213, -0.00235974975, -0.0746575, -0.00777973095, 0.0431239828, -0.0271441042, 0.038077075, 0.00466335937, 0.0241852924, 0.0219163746, -0.00985320937, -0.0258103609, -0.0587696731, 0.038172543, 0.00781994, 0.0075337626, 0.00603917614, -0.0161225945, -0.0305102766, -0.0328421928, -0.0209927391, -0.0230256189, -0.00848539546, 0.00930846576, 0.00871236, 0.00902954, -0.0129548265, -0.0171164256, 0.00112560578, 0.0141864344, -0.0284119491, -0.0113162128, 0.00270170067, 0.0126368012, -0.0231563691, -0.0239280816, 0.0246052183, 0.00195851596, 0.0279041138, 0.0124447215, 0.00333576603, 0.0358790234, -0.00757964468, 0.0155008128, -0.0150015671, -0.014506029, -0.00743185962, -0.0189585444, -0.00112193276, -0.0228791684, 0.00298893941, -0.0116092172, -0.0255092476, 0.025346322, -0.00868520606, -0.053393051, -0.0348780192, -0.00688729761, -0.0184051469, 0.00551590649, 0.0293728709, -0.0091557391, 0.0112061268, -0.0151672931, -0.0404263325, 0.032584656, 0.0266695693, -0.0179912802, -0.0313174538, 0.00563977426, -0.0372732617, 0.0334466696, -0.0475537851, 0.017932279, 0.0393416658, -0.0234454982, -0.0625155643, -0.00903142896, 0.0185514074, -0.0241758395, 0.0155218421, 0.0150204068, -0.0533465482, 0.00311387144, 0.0253516659, 0.00698614, -0.0179606117, -0.00880942587, 0.00137521862, 0.00987755507, -0.0187523868, 0.0263232887, 0.00928827561, -0.00374850398, 0.0393733531, -0.0421053581, -0.0370255671, 0.033878617, -0.00688987039, 0.00332211517, -0.0211367123, -0.00847986713, 0.042011708, 0.0158274397, -0.0159131195, -0.0287843179, 0.0227976628, -0.00620540697, -0.0389100276, -0.021412855, -0.029418245, -0.00587044517, -0.00863385666, 0.000754975, 0.00438585319, 0.00338860368, 0.00261947466, -0.00012945378, -0.033921469, -0.0269501358, -0.0112107825, 0.00301763252, -0.00729150278, -0.0110812895, 0.00656009419, -0.00174954406, 0.0112707056, -0.0210212711, 0.008092531, 0.00101234682, -0.0361413173, -0.00122014806, -0.0115651367, -0.0029322952, 0.0151241738, 0.0177276116, 0.00849338062, 0.00445871381, 0.039184995, -0.00512539502, -0.000501129776, 0.00442292169, -0.0290982928, 0.00555577409, -0.0306007173, 0.0250176918, -0.0319053866, -0.0144649372, -0.00685771322, 0.062070962, -0.00712976605, -0.0333161578, -0.0232482981, -0.0214698073, -0.0111842733, -0.025134109, 0.0131189814, 0.00627445942, 0.0147183333, 0.0385761634, 0.0150174545, -0.0112712085, 0.019278286, -0.00791982841, 0.00487209111, -0.092685692, -0.0300101638, -0.0405527577, -0.0228213463, -0.0239216276, -0.0287130475, -0.0106258774, -0.00983177219, -0.00303350645, -0.0973944, -0.0261023175, 0.00549560552, 0.0130069945, 0.0112731718, 0.0332285091, 0.0250512082, 0.00355224544, 0.0126653155, -0.00912390463, 0.0155923394, -0.01906313, 0.00896161422, -0.0156137012, -0.0101338215, 0.0132811032, -0.0287072808, 0.000702165358, 0.031231815, 0.0270237457, 0.00115714688, -0.0475105345, -0.029991854, -0.0244082417, 0.00522032427, -0.0339288674, -0.00155594933, -0.0254538972, -0.0243176389, -0.00962079875, -0.0020709543, -0.00299772713, 0.0295297336, 0.0188515428, -0.0316980258, 0.00408209721, 0.00421422254, 0.0246149953, -0.0386379026, -0.0272324868, 0.0125399157, 0.00512308674, -0.0158534404, -0.0294724442, -0.0104416143, -0.000469953113, -0.000173364067, -0.00678262068, 0.0063982592, -0.0405224189, -0.0286173169, -0.00905294809, -0.00658597471, -0.0116251959, 0.0326182619, -0.0181604717, 0.0326936692, -0.0236778017, 0.0169819165, -0.0134186577, 0.0429382585, 0.0295207724, 0.000842537207, -0.0257172, -0.0168880932, 0.00194300117, -0.0170446411, 0.0183548275, 0.00653586397, -0.00713548902, -0.00740248663, 0.0219137426, 0.00281639607, 0.0152631579, -0.0161444414, 0.0291691329, 0.00171810691, 0.00811838638, -0.0253643431, -0.0271771271, 0.0125752082, 0.0307698864, 0.0326399803]\n"
          ]
        }
      ]
    },
    {
      "cell_type": "markdown",
      "source": [
        "# Vector Index using Vertex AI Vector Search"
      ],
      "metadata": {
        "id": "GgU7qPqPNT2V"
      },
      "id": "GgU7qPqPNT2V"
    },
    {
      "cell_type": "markdown",
      "source": [
        "Generate the embeddings for my pokemon images dataset. (you don't need to do this more than once)"
      ],
      "metadata": {
        "id": "CwqWaYm6ves3"
      },
      "id": "CwqWaYm6ves3"
    },
    {
      "cell_type": "code",
      "source": [
        "import json"
      ],
      "metadata": {
        "id": "rgzV1IPHSoEV",
        "executionInfo": {
          "status": "ok",
          "timestamp": 1728579998289,
          "user_tz": 240,
          "elapsed": 125,
          "user": {
            "displayName": "",
            "userId": ""
          }
        }
      },
      "id": "rgzV1IPHSoEV",
      "execution_count": 8,
      "outputs": []
    },
    {
      "cell_type": "code",
      "source": [
        "# Note: Client.list_blobs requires at least package version 1.17.0.\n",
        "blobs = storage_client.list_blobs(bucket, prefix=\"pokemon/images/\")\n",
        "\n",
        "count = 0\n",
        "file_idx = 0\n",
        "output = storage_client.bucket(bucket).blob(f\"pokemon/embeddings/embeddings-{str(file_idx).zfill(5)}.json\")\n",
        "\n",
        "for blob in blobs:\n",
        "  if not blob.name.endswith(\".jpg\"):\n",
        "    continue\n",
        "\n",
        "  if count % 1000 == 0:\n",
        "    if f is not None:\n",
        "      f.close()\n",
        "\n",
        "    file_idx += 1\n",
        "    print(f\"started file: pokemon/embeddings/embeddings-{str(file_idx).zfill(5)}.json\")\n",
        "\n",
        "    output = storage_client.bucket(bucket).blob(f\"pokemon/embeddings/embeddings-{str(file_idx).zfill(5)}.json\")\n",
        "    f = output.open(\"w\")\n",
        "\n",
        "  image = Image.load_from_file(\n",
        "      f\"gs://{bucket}/{blob.name}\"\n",
        "  )\n",
        "\n",
        "  embedding = model.get_embeddings(image=image, dimension=1408)\n",
        "  f.write(json.dumps({\n",
        "      \"embedding\": embedding.image_embedding,\n",
        "      \"id\": blob.name,\n",
        "  }))\n",
        "  f.write(\"\\n\")\n",
        "\n",
        "  count += 1\n",
        "  if count % 100 == 0:\n",
        "    print(f\"Processed {count} images\")\n",
        "\n",
        "\n",
        "\n",
        "\n"
      ],
      "metadata": {
        "colab": {
          "base_uri": "https://localhost:8080/",
          "height": 1000
        },
        "id": "6lnqAkEUsiIy",
        "outputId": "0e2728ab-bb49-4975-ceb8-205bdccb7b1a",
        "executionInfo": {
          "status": "error",
          "timestamp": 1728408842402,
          "user_tz": 240,
          "elapsed": 2081819,
          "user": {
            "displayName": "",
            "userId": ""
          }
        }
      },
      "id": "6lnqAkEUsiIy",
      "execution_count": null,
      "outputs": [
        {
          "output_type": "stream",
          "name": "stdout",
          "text": [
            "started file: pokemon/embeddings-00001.json\n",
            "Processed 100 images\n",
            "Processed 200 images\n",
            "Processed 300 images\n",
            "Processed 400 images\n",
            "Processed 500 images\n",
            "Processed 600 images\n",
            "Processed 700 images\n",
            "Processed 800 images\n",
            "Processed 900 images\n",
            "Processed 1000 images\n",
            "started file: pokemon/embeddings-00002.json\n",
            "Processed 1100 images\n",
            "Processed 1200 images\n",
            "Processed 1300 images\n",
            "Processed 1400 images\n",
            "Processed 1500 images\n",
            "Processed 1600 images\n",
            "Processed 1700 images\n",
            "Processed 1800 images\n",
            "Processed 1900 images\n",
            "Processed 2000 images\n",
            "started file: pokemon/embeddings-00003.json\n",
            "Processed 2100 images\n",
            "Processed 2200 images\n",
            "Processed 2300 images\n",
            "Processed 2400 images\n",
            "Processed 2500 images\n",
            "Processed 2600 images\n",
            "Processed 2700 images\n",
            "Processed 2800 images\n",
            "Processed 2900 images\n",
            "Processed 3000 images\n",
            "started file: pokemon/embeddings-00004.json\n",
            "Processed 3100 images\n",
            "Processed 3200 images\n",
            "Processed 3300 images\n",
            "Processed 3400 images\n",
            "Processed 3500 images\n",
            "Processed 3600 images\n",
            "Processed 3700 images\n",
            "Processed 3800 images\n",
            "Processed 3900 images\n",
            "Processed 4000 images\n",
            "started file: pokemon/embeddings-00005.json\n",
            "Processed 4100 images\n",
            "Processed 4200 images\n",
            "Processed 4300 images\n",
            "Processed 4400 images\n",
            "Processed 4500 images\n",
            "Processed 4600 images\n",
            "Processed 4700 images\n",
            "Processed 4800 images\n",
            "Processed 4900 images\n",
            "Processed 5000 images\n",
            "started file: pokemon/embeddings-00006.json\n",
            "Processed 5100 images\n",
            "Processed 5200 images\n",
            "Processed 5300 images\n",
            "Processed 5400 images\n",
            "Processed 5500 images\n",
            "Processed 5600 images\n",
            "Processed 5700 images\n",
            "Processed 5800 images\n",
            "Processed 5900 images\n",
            "Processed 6000 images\n",
            "started file: pokemon/embeddings-00007.json\n",
            "Processed 6100 images\n",
            "Processed 6200 images\n",
            "Processed 6300 images\n",
            "Processed 6400 images\n",
            "Processed 6500 images\n",
            "Processed 6600 images\n",
            "Processed 6700 images\n",
            "Processed 6800 images\n",
            "Processed 6900 images\n",
            "Processed 7000 images\n",
            "started file: pokemon/embeddings-00008.json\n",
            "Processed 7100 images\n",
            "Processed 7200 images\n",
            "Processed 7300 images\n",
            "Processed 7400 images\n",
            "Processed 7500 images\n",
            "Processed 7600 images\n",
            "Processed 7700 images\n",
            "Processed 7800 images\n",
            "Processed 7900 images\n",
            "Processed 8000 images\n",
            "started file: pokemon/embeddings-00009.json\n",
            "Processed 8100 images\n",
            "Processed 8200 images\n",
            "Processed 8300 images\n",
            "Processed 8400 images\n",
            "Processed 8500 images\n",
            "Processed 8600 images\n",
            "Processed 8700 images\n",
            "Processed 8800 images\n",
            "Processed 8900 images\n",
            "Processed 9000 images\n",
            "started file: pokemon/embeddings-00010.json\n",
            "Processed 9100 images\n",
            "Processed 9200 images\n",
            "Processed 9300 images\n",
            "Processed 9400 images\n",
            "Processed 9500 images\n",
            "Processed 9600 images\n",
            "Processed 9700 images\n",
            "Processed 9800 images\n",
            "Processed 9900 images\n",
            "Processed 10000 images\n",
            "started file: pokemon/embeddings-00011.json\n",
            "Processed 10100 images\n",
            "Processed 10200 images\n",
            "Processed 10300 images\n",
            "Processed 10400 images\n",
            "Processed 10500 images\n",
            "Processed 10600 images\n",
            "Processed 10700 images\n",
            "Processed 10800 images\n",
            "Processed 10900 images\n",
            "Processed 11000 images\n",
            "started file: pokemon/embeddings-00012.json\n",
            "Processed 11100 images\n",
            "Processed 11200 images\n",
            "Processed 11300 images\n",
            "Processed 11400 images\n",
            "Processed 11500 images\n",
            "Processed 11600 images\n",
            "Processed 11700 images\n",
            "Processed 11800 images\n",
            "Processed 11900 images\n",
            "Processed 12000 images\n",
            "started file: pokemon/embeddings-00013.json\n",
            "Processed 12100 images\n",
            "Processed 12200 images\n",
            "Processed 12300 images\n",
            "Processed 12400 images\n"
          ]
        },
        {
          "output_type": "error",
          "ename": "ServiceUnavailable",
          "evalue": "503 502:Bad Gateway",
          "traceback": [
            "\u001b[0;31m---------------------------------------------------------------------------\u001b[0m",
            "\u001b[0;31m_InactiveRpcError\u001b[0m                         Traceback (most recent call last)",
            "\u001b[0;32m/usr/local/lib/python3.10/dist-packages/google/api_core/grpc_helpers.py\u001b[0m in \u001b[0;36merror_remapped_callable\u001b[0;34m(*args, **kwargs)\u001b[0m\n\u001b[1;32m     75\u001b[0m         \u001b[0;32mtry\u001b[0m\u001b[0;34m:\u001b[0m\u001b[0;34m\u001b[0m\u001b[0;34m\u001b[0m\u001b[0m\n\u001b[0;32m---> 76\u001b[0;31m             \u001b[0;32mreturn\u001b[0m \u001b[0mcallable_\u001b[0m\u001b[0;34m(\u001b[0m\u001b[0;34m*\u001b[0m\u001b[0margs\u001b[0m\u001b[0;34m,\u001b[0m \u001b[0;34m**\u001b[0m\u001b[0mkwargs\u001b[0m\u001b[0;34m)\u001b[0m\u001b[0;34m\u001b[0m\u001b[0;34m\u001b[0m\u001b[0m\n\u001b[0m\u001b[1;32m     77\u001b[0m         \u001b[0;32mexcept\u001b[0m \u001b[0mgrpc\u001b[0m\u001b[0;34m.\u001b[0m\u001b[0mRpcError\u001b[0m \u001b[0;32mas\u001b[0m \u001b[0mexc\u001b[0m\u001b[0;34m:\u001b[0m\u001b[0;34m\u001b[0m\u001b[0;34m\u001b[0m\u001b[0m\n",
            "\u001b[0;32m/usr/local/lib/python3.10/dist-packages/grpc/_channel.py\u001b[0m in \u001b[0;36m__call__\u001b[0;34m(self, request, timeout, metadata, credentials, wait_for_ready, compression)\u001b[0m\n\u001b[1;32m   1180\u001b[0m         )\n\u001b[0;32m-> 1181\u001b[0;31m         \u001b[0;32mreturn\u001b[0m \u001b[0m_end_unary_response_blocking\u001b[0m\u001b[0;34m(\u001b[0m\u001b[0mstate\u001b[0m\u001b[0;34m,\u001b[0m \u001b[0mcall\u001b[0m\u001b[0;34m,\u001b[0m \u001b[0;32mFalse\u001b[0m\u001b[0;34m,\u001b[0m \u001b[0;32mNone\u001b[0m\u001b[0;34m)\u001b[0m\u001b[0;34m\u001b[0m\u001b[0;34m\u001b[0m\u001b[0m\n\u001b[0m\u001b[1;32m   1182\u001b[0m \u001b[0;34m\u001b[0m\u001b[0m\n",
            "\u001b[0;32m/usr/local/lib/python3.10/dist-packages/grpc/_channel.py\u001b[0m in \u001b[0;36m_end_unary_response_blocking\u001b[0;34m(state, call, with_call, deadline)\u001b[0m\n\u001b[1;32m   1005\u001b[0m     \u001b[0;32melse\u001b[0m\u001b[0;34m:\u001b[0m\u001b[0;34m\u001b[0m\u001b[0;34m\u001b[0m\u001b[0m\n\u001b[0;32m-> 1006\u001b[0;31m         \u001b[0;32mraise\u001b[0m \u001b[0m_InactiveRpcError\u001b[0m\u001b[0;34m(\u001b[0m\u001b[0mstate\u001b[0m\u001b[0;34m)\u001b[0m  \u001b[0;31m# pytype: disable=not-instantiable\u001b[0m\u001b[0;34m\u001b[0m\u001b[0;34m\u001b[0m\u001b[0m\n\u001b[0m\u001b[1;32m   1007\u001b[0m \u001b[0;34m\u001b[0m\u001b[0m\n",
            "\u001b[0;31m_InactiveRpcError\u001b[0m: <_InactiveRpcError of RPC that terminated with:\n\tstatus = StatusCode.UNAVAILABLE\n\tdetails = \"502:Bad Gateway\"\n\tdebug_error_string = \"UNKNOWN:Error received from peer  {created_time:\"2024-10-08T17:34:03.482147669+00:00\", grpc_status:14, grpc_message:\"502:Bad Gateway\"}\"\n>",
            "\nThe above exception was the direct cause of the following exception:\n",
            "\u001b[0;31mServiceUnavailable\u001b[0m                        Traceback (most recent call last)",
            "\u001b[0;32m<ipython-input-74-0dbff6848128>\u001b[0m in \u001b[0;36m<cell line: 8>\u001b[0;34m()\u001b[0m\n\u001b[1;32m     24\u001b[0m   )\n\u001b[1;32m     25\u001b[0m \u001b[0;34m\u001b[0m\u001b[0m\n\u001b[0;32m---> 26\u001b[0;31m   \u001b[0membedding\u001b[0m \u001b[0;34m=\u001b[0m \u001b[0mmodel\u001b[0m\u001b[0;34m.\u001b[0m\u001b[0mget_embeddings\u001b[0m\u001b[0;34m(\u001b[0m\u001b[0mimage\u001b[0m\u001b[0;34m=\u001b[0m\u001b[0mimage\u001b[0m\u001b[0;34m,\u001b[0m \u001b[0mdimension\u001b[0m\u001b[0;34m=\u001b[0m\u001b[0;36m1408\u001b[0m\u001b[0;34m)\u001b[0m\u001b[0;34m\u001b[0m\u001b[0;34m\u001b[0m\u001b[0m\n\u001b[0m\u001b[1;32m     27\u001b[0m   f.write(json.dumps({\n\u001b[1;32m     28\u001b[0m       \u001b[0;34m\"embedding\"\u001b[0m\u001b[0;34m:\u001b[0m \u001b[0membedding\u001b[0m\u001b[0;34m.\u001b[0m\u001b[0mimage_embedding\u001b[0m\u001b[0;34m,\u001b[0m\u001b[0;34m\u001b[0m\u001b[0;34m\u001b[0m\u001b[0m\n",
            "\u001b[0;32m/usr/local/lib/python3.10/dist-packages/vertexai/vision_models/_vision_models.py\u001b[0m in \u001b[0;36mget_embeddings\u001b[0;34m(self, image, video, contextual_text, dimension, video_segment_config)\u001b[0m\n\u001b[1;32m   1249\u001b[0m             \u001b[0mparameters\u001b[0m\u001b[0;34m[\u001b[0m\u001b[0;34m\"dimension\"\u001b[0m\u001b[0;34m]\u001b[0m \u001b[0;34m=\u001b[0m \u001b[0mdimension\u001b[0m\u001b[0;34m\u001b[0m\u001b[0;34m\u001b[0m\u001b[0m\n\u001b[1;32m   1250\u001b[0m \u001b[0;34m\u001b[0m\u001b[0m\n\u001b[0;32m-> 1251\u001b[0;31m         response = self._endpoint.predict(\n\u001b[0m\u001b[1;32m   1252\u001b[0m             \u001b[0minstances\u001b[0m\u001b[0;34m=\u001b[0m\u001b[0;34m[\u001b[0m\u001b[0minstance\u001b[0m\u001b[0;34m]\u001b[0m\u001b[0;34m,\u001b[0m\u001b[0;34m\u001b[0m\u001b[0;34m\u001b[0m\u001b[0m\n\u001b[1;32m   1253\u001b[0m             \u001b[0mparameters\u001b[0m\u001b[0;34m=\u001b[0m\u001b[0mparameters\u001b[0m\u001b[0;34m,\u001b[0m\u001b[0;34m\u001b[0m\u001b[0;34m\u001b[0m\u001b[0m\n",
            "\u001b[0;32m/usr/local/lib/python3.10/dist-packages/google/cloud/aiplatform/models.py\u001b[0m in \u001b[0;36mpredict\u001b[0;34m(self, instances, parameters, timeout, use_raw_predict, use_dedicated_endpoint)\u001b[0m\n\u001b[1;32m   2291\u001b[0m \u001b[0;34m\u001b[0m\u001b[0m\n\u001b[1;32m   2292\u001b[0m         \u001b[0;32melse\u001b[0m\u001b[0;34m:\u001b[0m\u001b[0;34m\u001b[0m\u001b[0;34m\u001b[0m\u001b[0m\n\u001b[0;32m-> 2293\u001b[0;31m             prediction_response = self._prediction_client.predict(\n\u001b[0m\u001b[1;32m   2294\u001b[0m                 \u001b[0mendpoint\u001b[0m\u001b[0;34m=\u001b[0m\u001b[0mself\u001b[0m\u001b[0;34m.\u001b[0m\u001b[0m_gca_resource\u001b[0m\u001b[0;34m.\u001b[0m\u001b[0mname\u001b[0m\u001b[0;34m,\u001b[0m\u001b[0;34m\u001b[0m\u001b[0;34m\u001b[0m\u001b[0m\n\u001b[1;32m   2295\u001b[0m                 \u001b[0minstances\u001b[0m\u001b[0;34m=\u001b[0m\u001b[0minstances\u001b[0m\u001b[0;34m,\u001b[0m\u001b[0;34m\u001b[0m\u001b[0;34m\u001b[0m\u001b[0m\n",
            "\u001b[0;32m/usr/local/lib/python3.10/dist-packages/google/cloud/aiplatform_v1/services/prediction_service/client.py\u001b[0m in \u001b[0;36mpredict\u001b[0;34m(self, request, endpoint, instances, parameters, retry, timeout, metadata)\u001b[0m\n\u001b[1;32m    846\u001b[0m \u001b[0;34m\u001b[0m\u001b[0m\n\u001b[1;32m    847\u001b[0m         \u001b[0;31m# Send the request.\u001b[0m\u001b[0;34m\u001b[0m\u001b[0;34m\u001b[0m\u001b[0m\n\u001b[0;32m--> 848\u001b[0;31m         response = rpc(\n\u001b[0m\u001b[1;32m    849\u001b[0m             \u001b[0mrequest\u001b[0m\u001b[0;34m,\u001b[0m\u001b[0;34m\u001b[0m\u001b[0;34m\u001b[0m\u001b[0m\n\u001b[1;32m    850\u001b[0m             \u001b[0mretry\u001b[0m\u001b[0;34m=\u001b[0m\u001b[0mretry\u001b[0m\u001b[0;34m,\u001b[0m\u001b[0;34m\u001b[0m\u001b[0;34m\u001b[0m\u001b[0m\n",
            "\u001b[0;32m/usr/local/lib/python3.10/dist-packages/google/api_core/gapic_v1/method.py\u001b[0m in \u001b[0;36m__call__\u001b[0;34m(self, timeout, retry, compression, *args, **kwargs)\u001b[0m\n\u001b[1;32m    129\u001b[0m             \u001b[0mkwargs\u001b[0m\u001b[0;34m[\u001b[0m\u001b[0;34m\"compression\"\u001b[0m\u001b[0;34m]\u001b[0m \u001b[0;34m=\u001b[0m \u001b[0mcompression\u001b[0m\u001b[0;34m\u001b[0m\u001b[0;34m\u001b[0m\u001b[0m\n\u001b[1;32m    130\u001b[0m \u001b[0;34m\u001b[0m\u001b[0m\n\u001b[0;32m--> 131\u001b[0;31m         \u001b[0;32mreturn\u001b[0m \u001b[0mwrapped_func\u001b[0m\u001b[0;34m(\u001b[0m\u001b[0;34m*\u001b[0m\u001b[0margs\u001b[0m\u001b[0;34m,\u001b[0m \u001b[0;34m**\u001b[0m\u001b[0mkwargs\u001b[0m\u001b[0;34m)\u001b[0m\u001b[0;34m\u001b[0m\u001b[0;34m\u001b[0m\u001b[0m\n\u001b[0m\u001b[1;32m    132\u001b[0m \u001b[0;34m\u001b[0m\u001b[0m\n\u001b[1;32m    133\u001b[0m \u001b[0;34m\u001b[0m\u001b[0m\n",
            "\u001b[0;32m/usr/local/lib/python3.10/dist-packages/google/api_core/grpc_helpers.py\u001b[0m in \u001b[0;36merror_remapped_callable\u001b[0;34m(*args, **kwargs)\u001b[0m\n\u001b[1;32m     76\u001b[0m             \u001b[0;32mreturn\u001b[0m \u001b[0mcallable_\u001b[0m\u001b[0;34m(\u001b[0m\u001b[0;34m*\u001b[0m\u001b[0margs\u001b[0m\u001b[0;34m,\u001b[0m \u001b[0;34m**\u001b[0m\u001b[0mkwargs\u001b[0m\u001b[0;34m)\u001b[0m\u001b[0;34m\u001b[0m\u001b[0;34m\u001b[0m\u001b[0m\n\u001b[1;32m     77\u001b[0m         \u001b[0;32mexcept\u001b[0m \u001b[0mgrpc\u001b[0m\u001b[0;34m.\u001b[0m\u001b[0mRpcError\u001b[0m \u001b[0;32mas\u001b[0m \u001b[0mexc\u001b[0m\u001b[0;34m:\u001b[0m\u001b[0;34m\u001b[0m\u001b[0;34m\u001b[0m\u001b[0m\n\u001b[0;32m---> 78\u001b[0;31m             \u001b[0;32mraise\u001b[0m \u001b[0mexceptions\u001b[0m\u001b[0;34m.\u001b[0m\u001b[0mfrom_grpc_error\u001b[0m\u001b[0;34m(\u001b[0m\u001b[0mexc\u001b[0m\u001b[0;34m)\u001b[0m \u001b[0;32mfrom\u001b[0m \u001b[0mexc\u001b[0m\u001b[0;34m\u001b[0m\u001b[0;34m\u001b[0m\u001b[0m\n\u001b[0m\u001b[1;32m     79\u001b[0m \u001b[0;34m\u001b[0m\u001b[0m\n\u001b[1;32m     80\u001b[0m     \u001b[0;32mreturn\u001b[0m \u001b[0merror_remapped_callable\u001b[0m\u001b[0;34m\u001b[0m\u001b[0;34m\u001b[0m\u001b[0m\n",
            "\u001b[0;31mServiceUnavailable\u001b[0m: 503 502:Bad Gateway"
          ]
        }
      ]
    },
    {
      "cell_type": "markdown",
      "source": [
        "Create a Vector Search Index with the above embeddings json file (you also only need to do this once) -- note that because we need to pre-index all of the entries, it may take up to 60 minutes to finish indexing."
      ],
      "metadata": {
        "id": "4BeVQHT22eNq"
      },
      "id": "4BeVQHT22eNq"
    },
    {
      "cell_type": "code",
      "source": [
        "from datetime import datetime\n",
        "UID = datetime.now().strftime(\"%m%d%H%M\")\n",
        "\n",
        "# create index\n",
        "my_index = aiplatform.MatchingEngineIndex.create_tree_ah_index(\n",
        "    display_name=f\"pokemon-index-{UID}\",\n",
        "    dimensions=1408,\n",
        "    approximate_neighbors_count=100,\n",
        "    distance_measure_type=\"DOT_PRODUCT_DISTANCE\",\n",
        ")"
      ],
      "metadata": {
        "colab": {
          "base_uri": "https://localhost:8080/"
        },
        "id": "I1hhB4PCnAju",
        "executionInfo": {
          "status": "ok",
          "timestamp": 1728409135093,
          "user_tz": 240,
          "elapsed": 21913,
          "user": {
            "displayName": "",
            "userId": ""
          }
        },
        "outputId": "f3323a17-f6c2-4a46-9c54-a648d1c5899f"
      },
      "id": "I1hhB4PCnAju",
      "execution_count": null,
      "outputs": [
        {
          "output_type": "stream",
          "name": "stderr",
          "text": [
            "INFO:google.cloud.aiplatform.matching_engine.matching_engine_index:Creating MatchingEngineIndex\n",
            "INFO:google.cloud.aiplatform.matching_engine.matching_engine_index:Create MatchingEngineIndex backing LRO: projects/205512073711/locations/us-central1/indexes/7763761554889113600/operations/5188934742610804736\n",
            "INFO:google.cloud.aiplatform.matching_engine.matching_engine_index:MatchingEngineIndex created. Resource name: projects/205512073711/locations/us-central1/indexes/7763761554889113600\n",
            "INFO:google.cloud.aiplatform.matching_engine.matching_engine_index:To use this MatchingEngineIndex in another session:\n",
            "INFO:google.cloud.aiplatform.matching_engine.matching_engine_index:index = aiplatform.MatchingEngineIndex('projects/205512073711/locations/us-central1/indexes/7763761554889113600')\n"
          ]
        }
      ]
    },
    {
      "cell_type": "markdown",
      "source": [
        "Load my embeddings"
      ],
      "metadata": {
        "id": "izhvSp1aNr3M"
      },
      "id": "izhvSp1aNr3M"
    },
    {
      "cell_type": "code",
      "source": [
        "my_index = aiplatform.MatchingEngineIndex(\"projects/205512073711/locations/us-central1/indexes/7763761554889113600\")\n",
        "\n",
        "my_index.update_embeddings(\n",
        "    contents_delta_uri=f\"gs://{bucket}/pokemon/embeddings/\",\n",
        ")"
      ],
      "metadata": {
        "colab": {
          "base_uri": "https://localhost:8080/",
          "height": 533
        },
        "id": "GwGbsLfCNrsh",
        "outputId": "d04e788c-f054-4666-96c6-e96bd1d14a21",
        "executionInfo": {
          "status": "error",
          "timestamp": 1728413833329,
          "user_tz": 240,
          "elapsed": 49539,
          "user": {
            "displayName": "",
            "userId": ""
          }
        }
      },
      "id": "GwGbsLfCNrsh",
      "execution_count": null,
      "outputs": [
        {
          "output_type": "stream",
          "name": "stderr",
          "text": [
            "INFO:google.cloud.aiplatform.matching_engine.matching_engine_index:Updating MatchingEngineIndex index: projects/205512073711/locations/us-central1/indexes/7763761554889113600\n",
            "INFO:google.cloud.aiplatform.matching_engine.matching_engine_index:Update MatchingEngineIndex index backing LRO: projects/205512073711/locations/us-central1/indexes/7763761554889113600/operations/7437356856575524864\n"
          ]
        },
        {
          "output_type": "error",
          "ename": "KeyboardInterrupt",
          "evalue": "",
          "traceback": [
            "\u001b[0;31m---------------------------------------------------------------------------\u001b[0m",
            "\u001b[0;31m_OperationNotComplete\u001b[0m                     Traceback (most recent call last)",
            "\u001b[0;32m/usr/local/lib/python3.10/dist-packages/google/api_core/retry/retry_unary.py\u001b[0m in \u001b[0;36mretry_target\u001b[0;34m(target, predicate, sleep_generator, timeout, on_error, exception_factory, **kwargs)\u001b[0m\n\u001b[1;32m    143\u001b[0m         \u001b[0;32mtry\u001b[0m\u001b[0;34m:\u001b[0m\u001b[0;34m\u001b[0m\u001b[0;34m\u001b[0m\u001b[0m\n\u001b[0;32m--> 144\u001b[0;31m             \u001b[0mresult\u001b[0m \u001b[0;34m=\u001b[0m \u001b[0mtarget\u001b[0m\u001b[0;34m(\u001b[0m\u001b[0;34m)\u001b[0m\u001b[0;34m\u001b[0m\u001b[0;34m\u001b[0m\u001b[0m\n\u001b[0m\u001b[1;32m    145\u001b[0m             \u001b[0;32mif\u001b[0m \u001b[0minspect\u001b[0m\u001b[0;34m.\u001b[0m\u001b[0misawaitable\u001b[0m\u001b[0;34m(\u001b[0m\u001b[0mresult\u001b[0m\u001b[0;34m)\u001b[0m\u001b[0;34m:\u001b[0m\u001b[0;34m\u001b[0m\u001b[0;34m\u001b[0m\u001b[0m\n",
            "\u001b[0;32m/usr/local/lib/python3.10/dist-packages/google/api_core/future/polling.py\u001b[0m in \u001b[0;36m_done_or_raise\u001b[0;34m(self, retry)\u001b[0m\n\u001b[1;32m    119\u001b[0m         \u001b[0;32mif\u001b[0m \u001b[0;32mnot\u001b[0m \u001b[0mself\u001b[0m\u001b[0;34m.\u001b[0m\u001b[0mdone\u001b[0m\u001b[0;34m(\u001b[0m\u001b[0mretry\u001b[0m\u001b[0;34m=\u001b[0m\u001b[0mretry\u001b[0m\u001b[0;34m)\u001b[0m\u001b[0;34m:\u001b[0m\u001b[0;34m\u001b[0m\u001b[0;34m\u001b[0m\u001b[0m\n\u001b[0;32m--> 120\u001b[0;31m             \u001b[0;32mraise\u001b[0m \u001b[0m_OperationNotComplete\u001b[0m\u001b[0;34m(\u001b[0m\u001b[0;34m)\u001b[0m\u001b[0;34m\u001b[0m\u001b[0;34m\u001b[0m\u001b[0m\n\u001b[0m\u001b[1;32m    121\u001b[0m \u001b[0;34m\u001b[0m\u001b[0m\n",
            "\u001b[0;31m_OperationNotComplete\u001b[0m: ",
            "\nDuring handling of the above exception, another exception occurred:\n",
            "\u001b[0;31mKeyboardInterrupt\u001b[0m                         Traceback (most recent call last)",
            "\u001b[0;32m<ipython-input-85-719e7ba84573>\u001b[0m in \u001b[0;36m<cell line: 3>\u001b[0;34m()\u001b[0m\n\u001b[1;32m      1\u001b[0m \u001b[0mmy_index\u001b[0m \u001b[0;34m=\u001b[0m \u001b[0maiplatform\u001b[0m\u001b[0;34m.\u001b[0m\u001b[0mMatchingEngineIndex\u001b[0m\u001b[0;34m(\u001b[0m\u001b[0;34m\"projects/205512073711/locations/us-central1/indexes/7763761554889113600\"\u001b[0m\u001b[0;34m)\u001b[0m\u001b[0;34m\u001b[0m\u001b[0;34m\u001b[0m\u001b[0m\n\u001b[1;32m      2\u001b[0m \u001b[0;34m\u001b[0m\u001b[0m\n\u001b[0;32m----> 3\u001b[0;31m my_index.update_embeddings(\n\u001b[0m\u001b[1;32m      4\u001b[0m     \u001b[0mcontents_delta_uri\u001b[0m\u001b[0;34m=\u001b[0m\u001b[0;34mf\"gs://{bucket}/pokemon/embeddings/\"\u001b[0m\u001b[0;34m,\u001b[0m\u001b[0;34m\u001b[0m\u001b[0;34m\u001b[0m\u001b[0m\n\u001b[1;32m      5\u001b[0m )\n",
            "\u001b[0;32m/usr/local/lib/python3.10/dist-packages/google/cloud/aiplatform/matching_engine/matching_engine_index.py\u001b[0m in \u001b[0;36mupdate_embeddings\u001b[0;34m(self, contents_delta_uri, is_complete_overwrite, request_metadata, update_request_timeout)\u001b[0m\n\u001b[1;32m    392\u001b[0m         )\n\u001b[1;32m    393\u001b[0m \u001b[0;34m\u001b[0m\u001b[0m\n\u001b[0;32m--> 394\u001b[0;31m         \u001b[0mself\u001b[0m\u001b[0;34m.\u001b[0m\u001b[0m_gca_resource\u001b[0m \u001b[0;34m=\u001b[0m \u001b[0mupdate_lro\u001b[0m\u001b[0;34m.\u001b[0m\u001b[0mresult\u001b[0m\u001b[0;34m(\u001b[0m\u001b[0mtimeout\u001b[0m\u001b[0;34m=\u001b[0m\u001b[0;32mNone\u001b[0m\u001b[0;34m)\u001b[0m\u001b[0;34m\u001b[0m\u001b[0;34m\u001b[0m\u001b[0m\n\u001b[0m\u001b[1;32m    395\u001b[0m \u001b[0;34m\u001b[0m\u001b[0m\n\u001b[1;32m    396\u001b[0m         \u001b[0m_LOGGER\u001b[0m\u001b[0;34m.\u001b[0m\u001b[0mlog_action_completed_against_resource\u001b[0m\u001b[0;34m(\u001b[0m\u001b[0;34m\"index\"\u001b[0m\u001b[0;34m,\u001b[0m \u001b[0;34m\"Updated\"\u001b[0m\u001b[0;34m,\u001b[0m \u001b[0mself\u001b[0m\u001b[0;34m)\u001b[0m\u001b[0;34m\u001b[0m\u001b[0;34m\u001b[0m\u001b[0m\n",
            "\u001b[0;32m/usr/local/lib/python3.10/dist-packages/google/api_core/future/polling.py\u001b[0m in \u001b[0;36mresult\u001b[0;34m(self, timeout, retry, polling)\u001b[0m\n\u001b[1;32m    254\u001b[0m         \"\"\"\n\u001b[1;32m    255\u001b[0m \u001b[0;34m\u001b[0m\u001b[0m\n\u001b[0;32m--> 256\u001b[0;31m         \u001b[0mself\u001b[0m\u001b[0;34m.\u001b[0m\u001b[0m_blocking_poll\u001b[0m\u001b[0;34m(\u001b[0m\u001b[0mtimeout\u001b[0m\u001b[0;34m=\u001b[0m\u001b[0mtimeout\u001b[0m\u001b[0;34m,\u001b[0m \u001b[0mretry\u001b[0m\u001b[0;34m=\u001b[0m\u001b[0mretry\u001b[0m\u001b[0;34m,\u001b[0m \u001b[0mpolling\u001b[0m\u001b[0;34m=\u001b[0m\u001b[0mpolling\u001b[0m\u001b[0;34m)\u001b[0m\u001b[0;34m\u001b[0m\u001b[0;34m\u001b[0m\u001b[0m\n\u001b[0m\u001b[1;32m    257\u001b[0m \u001b[0;34m\u001b[0m\u001b[0m\n\u001b[1;32m    258\u001b[0m         \u001b[0;32mif\u001b[0m \u001b[0mself\u001b[0m\u001b[0;34m.\u001b[0m\u001b[0m_exception\u001b[0m \u001b[0;32mis\u001b[0m \u001b[0;32mnot\u001b[0m \u001b[0;32mNone\u001b[0m\u001b[0;34m:\u001b[0m\u001b[0;34m\u001b[0m\u001b[0;34m\u001b[0m\u001b[0m\n",
            "\u001b[0;32m/usr/local/lib/python3.10/dist-packages/google/api_core/future/polling.py\u001b[0m in \u001b[0;36m_blocking_poll\u001b[0;34m(self, timeout, retry, polling)\u001b[0m\n\u001b[1;32m    135\u001b[0m \u001b[0;34m\u001b[0m\u001b[0m\n\u001b[1;32m    136\u001b[0m         \u001b[0;32mtry\u001b[0m\u001b[0;34m:\u001b[0m\u001b[0;34m\u001b[0m\u001b[0;34m\u001b[0m\u001b[0m\n\u001b[0;32m--> 137\u001b[0;31m             \u001b[0mpolling\u001b[0m\u001b[0;34m(\u001b[0m\u001b[0mself\u001b[0m\u001b[0;34m.\u001b[0m\u001b[0m_done_or_raise\u001b[0m\u001b[0;34m)\u001b[0m\u001b[0;34m(\u001b[0m\u001b[0mretry\u001b[0m\u001b[0;34m=\u001b[0m\u001b[0mretry\u001b[0m\u001b[0;34m)\u001b[0m\u001b[0;34m\u001b[0m\u001b[0;34m\u001b[0m\u001b[0m\n\u001b[0m\u001b[1;32m    138\u001b[0m         \u001b[0;32mexcept\u001b[0m \u001b[0mexceptions\u001b[0m\u001b[0;34m.\u001b[0m\u001b[0mRetryError\u001b[0m\u001b[0;34m:\u001b[0m\u001b[0;34m\u001b[0m\u001b[0;34m\u001b[0m\u001b[0m\n\u001b[1;32m    139\u001b[0m             raise concurrent.futures.TimeoutError(\n",
            "\u001b[0;32m/usr/local/lib/python3.10/dist-packages/google/api_core/retry/retry_unary.py\u001b[0m in \u001b[0;36mretry_wrapped_func\u001b[0;34m(*args, **kwargs)\u001b[0m\n\u001b[1;32m    291\u001b[0m                 \u001b[0mself\u001b[0m\u001b[0;34m.\u001b[0m\u001b[0m_initial\u001b[0m\u001b[0;34m,\u001b[0m \u001b[0mself\u001b[0m\u001b[0;34m.\u001b[0m\u001b[0m_maximum\u001b[0m\u001b[0;34m,\u001b[0m \u001b[0mmultiplier\u001b[0m\u001b[0;34m=\u001b[0m\u001b[0mself\u001b[0m\u001b[0;34m.\u001b[0m\u001b[0m_multiplier\u001b[0m\u001b[0;34m\u001b[0m\u001b[0;34m\u001b[0m\u001b[0m\n\u001b[1;32m    292\u001b[0m             )\n\u001b[0;32m--> 293\u001b[0;31m             return retry_target(\n\u001b[0m\u001b[1;32m    294\u001b[0m                 \u001b[0mtarget\u001b[0m\u001b[0;34m,\u001b[0m\u001b[0;34m\u001b[0m\u001b[0;34m\u001b[0m\u001b[0m\n\u001b[1;32m    295\u001b[0m                 \u001b[0mself\u001b[0m\u001b[0;34m.\u001b[0m\u001b[0m_predicate\u001b[0m\u001b[0;34m,\u001b[0m\u001b[0;34m\u001b[0m\u001b[0;34m\u001b[0m\u001b[0m\n",
            "\u001b[0;32m/usr/local/lib/python3.10/dist-packages/google/api_core/retry/retry_unary.py\u001b[0m in \u001b[0;36mretry_target\u001b[0;34m(target, predicate, sleep_generator, timeout, on_error, exception_factory, **kwargs)\u001b[0m\n\u001b[1;32m    162\u001b[0m             )\n\u001b[1;32m    163\u001b[0m             \u001b[0;31m# if exception not raised, sleep before next attempt\u001b[0m\u001b[0;34m\u001b[0m\u001b[0;34m\u001b[0m\u001b[0m\n\u001b[0;32m--> 164\u001b[0;31m             \u001b[0mtime\u001b[0m\u001b[0;34m.\u001b[0m\u001b[0msleep\u001b[0m\u001b[0;34m(\u001b[0m\u001b[0msleep\u001b[0m\u001b[0;34m)\u001b[0m\u001b[0;34m\u001b[0m\u001b[0;34m\u001b[0m\u001b[0m\n\u001b[0m\u001b[1;32m    165\u001b[0m \u001b[0;34m\u001b[0m\u001b[0m\n\u001b[1;32m    166\u001b[0m     \u001b[0;32mraise\u001b[0m \u001b[0mValueError\u001b[0m\u001b[0;34m(\u001b[0m\u001b[0;34m\"Sleep generator stopped yielding sleep values.\"\u001b[0m\u001b[0;34m)\u001b[0m\u001b[0;34m\u001b[0m\u001b[0;34m\u001b[0m\u001b[0m\n",
            "\u001b[0;31mKeyboardInterrupt\u001b[0m: "
          ]
        }
      ]
    },
    {
      "cell_type": "markdown",
      "source": [
        "Deploy an endpoint with my index\n"
      ],
      "metadata": {
        "id": "HQHCQG_p22WD"
      },
      "id": "HQHCQG_p22WD"
    },
    {
      "cell_type": "code",
      "source": [
        "UID = \"10081738\"\n",
        "my_index_endpoint = aiplatform.MatchingEngineIndexEndpoint.create(\n",
        "    display_name = f\"pokemon-index-{UID}\",\n",
        "    public_endpoint_enabled = True\n",
        ")\n",
        "\n",
        "my_index = aiplatform.MatchingEngineIndex(\"projects/205512073711/locations/us-central1/indexes/7763761554889113600\")\n",
        "deployed_index_id = f\"pokemon_index_deployed_{UID}\"\n",
        "my_index_endpoint.deploy_index(\n",
        "    index=my_index,\n",
        "    deployed_index_id=deployed_index_id\n",
        ")"
      ],
      "metadata": {
        "colab": {
          "base_uri": "https://localhost:8080/"
        },
        "id": "EtwGCUcb3Ds2",
        "outputId": "28ed980c-8d77-46b8-de99-0ced73f02215",
        "executionInfo": {
          "status": "ok",
          "timestamp": 1728505414186,
          "user_tz": 240,
          "elapsed": 1584916,
          "user": {
            "displayName": "",
            "userId": ""
          }
        }
      },
      "id": "EtwGCUcb3Ds2",
      "execution_count": null,
      "outputs": [
        {
          "output_type": "stream",
          "name": "stderr",
          "text": [
            "INFO:google.cloud.aiplatform.matching_engine.matching_engine_index_endpoint:Creating MatchingEngineIndexEndpoint\n",
            "INFO:google.cloud.aiplatform.matching_engine.matching_engine_index_endpoint:Create MatchingEngineIndexEndpoint backing LRO: projects/205512073711/locations/us-central1/indexEndpoints/3192678301852237824/operations/4565502853568790528\n",
            "INFO:google.cloud.aiplatform.matching_engine.matching_engine_index_endpoint:MatchingEngineIndexEndpoint created. Resource name: projects/205512073711/locations/us-central1/indexEndpoints/3192678301852237824\n",
            "INFO:google.cloud.aiplatform.matching_engine.matching_engine_index_endpoint:To use this MatchingEngineIndexEndpoint in another session:\n",
            "INFO:google.cloud.aiplatform.matching_engine.matching_engine_index_endpoint:index_endpoint = aiplatform.MatchingEngineIndexEndpoint('projects/205512073711/locations/us-central1/indexEndpoints/3192678301852237824')\n",
            "INFO:google.cloud.aiplatform.matching_engine.matching_engine_index_endpoint:Deploying index MatchingEngineIndexEndpoint index_endpoint: projects/205512073711/locations/us-central1/indexEndpoints/3192678301852237824\n",
            "INFO:google.cloud.aiplatform.matching_engine.matching_engine_index_endpoint:Deploy index MatchingEngineIndexEndpoint index_endpoint backing LRO: projects/205512073711/locations/us-central1/indexEndpoints/3192678301852237824/operations/8267461747267338240\n",
            "INFO:google.cloud.aiplatform.matching_engine.matching_engine_index_endpoint:MatchingEngineIndexEndpoint index_endpoint Deployed index. Resource name: projects/205512073711/locations/us-central1/indexEndpoints/3192678301852237824\n"
          ]
        },
        {
          "output_type": "execute_result",
          "data": {
            "text/plain": [
              "<google.cloud.aiplatform.matching_engine.matching_engine_index_endpoint.MatchingEngineIndexEndpoint object at 0x7f3edd38ce80> \n",
              "resource name: projects/205512073711/locations/us-central1/indexEndpoints/3192678301852237824"
            ]
          },
          "metadata": {},
          "execution_count": 4
        }
      ]
    },
    {
      "cell_type": "markdown",
      "source": [],
      "metadata": {
        "id": "FX5PGjjeP5wT"
      },
      "id": "FX5PGjjeP5wT"
    },
    {
      "cell_type": "code",
      "source": [
        "my_index_endpoint = aiplatform.MatchingEngineIndexEndpoint('projects/205512073711/locations/us-central1/indexEndpoints/3192678301852237824')\n",
        "image_path = \"pokemon/kisspng-eevee-pixel-art-image-eevee-pixel-art-maker-5c5ce3d4111941.94962810154959150807.png\"\n",
        "\n",
        "image_bytes = download_blob_as_bytes(bucket, image_path)\n",
        "img = DisplayImage(image_bytes)\n",
        "display(img)"
      ],
      "metadata": {
        "colab": {
          "base_uri": "https://localhost:8080/",
          "height": 584
        },
        "id": "TmmqqDMrP6Js",
        "executionInfo": {
          "status": "ok",
          "timestamp": 1728591409407,
          "user_tz": 240,
          "elapsed": 261,
          "user": {
            "displayName": "",
            "userId": ""
          }
        },
        "outputId": "f04ecb41-33f3-4fe7-9c2b-8ee156d1e0d0"
      },
      "id": "TmmqqDMrP6Js",
      "execution_count": 41,
      "outputs": [
        {
          "output_type": "stream",
          "name": "stdout",
          "text": [
            "Downloaded blob pokemon/kisspng-eevee-pixel-art-image-eevee-pixel-art-maker-5c5ce3d4111941.94962810154959150807.png from bucket jkwng-vertex-experiments as bytes\n"
          ]
        },
        {
          "output_type": "display_data",
          "data": {
            "image/png": "[encoded data removed]",
            "text/plain": [
              "<IPython.core.display.Image object>"
            ]
          },
          "metadata": {}
        }
      ]
    },
    {
      "cell_type": "code",
      "source": [
        "from PIL import Image as PILImage\n",
        "import io\n",
        "\n",
        "image = Image.load_from_file(\n",
        "    f\"gs://{bucket}/{image_path}\"\n",
        ")\n",
        "\n",
        "deployed_index_id = \"pokemon_index_deployed_10081738\"\n",
        "\n",
        "embeddings = mm_embed_model.get_embeddings(\n",
        "     image=image,\n",
        "     dimension=1408,\n",
        ")\n",
        "\n",
        "response = my_index_endpoint.find_neighbors(\n",
        "    deployed_index_id=deployed_index_id,\n",
        "    queries=[embeddings.image_embedding],\n",
        "    num_neighbors=9,\n",
        ")\n",
        "\n",
        "pilImages = []\n",
        "for resp in response:\n",
        "  for neighbor in resp:\n",
        "    print(f\"{neighbor.id}: {neighbor.distance}\")\n",
        "\n",
        "    image_bytes = download_blob_as_bytes(bucket, neighbor.id)\n",
        "    pilImg = PILImage.open(io.BytesIO(image_bytes))\n",
        "    pilImages.append(pilImg)"
      ],
      "metadata": {
        "colab": {
          "base_uri": "https://localhost:8080/"
        },
        "id": "BkEcKP4HVC_k",
        "executionInfo": {
          "status": "ok",
          "timestamp": 1728582029618,
          "user_tz": 240,
          "elapsed": 1901,
          "user": {
            "displayName": "",
            "userId": ""
          }
        },
        "outputId": "ce73e327-61a0-4eb7-b64a-31ec4c1c9a34"
      },
      "id": "BkEcKP4HVC_k",
      "execution_count": 36,
      "outputs": [
        {
          "output_type": "stream",
          "name": "stdout",
          "text": [
            "pokemon/images/Flareon/a403f06e227940019826d96deb7274b5.jpg: 0.8289448022842407\n",
            "Downloaded blob pokemon/images/Flareon/a403f06e227940019826d96deb7274b5.jpg from bucket jkwng-vertex-experiments as bytes\n",
            "pokemon/images/Charmander/880b1e124c6a4e228895f2ca89c3bd80.jpg: 0.8207932710647583\n",
            "Downloaded blob pokemon/images/Charmander/880b1e124c6a4e228895f2ca89c3bd80.jpg from bucket jkwng-vertex-experiments as bytes\n",
            "pokemon/images/Eevee/3.jpg: 0.8198447227478027\n",
            "Downloaded blob pokemon/images/Eevee/3.jpg from bucket jkwng-vertex-experiments as bytes\n",
            "pokemon/images/Eevee/6e7a28d25d9b4ad7b4cbbf12bed86c74.jpg: 0.8180825114250183\n",
            "Downloaded blob pokemon/images/Eevee/6e7a28d25d9b4ad7b4cbbf12bed86c74.jpg from bucket jkwng-vertex-experiments as bytes\n",
            "pokemon/images/Eevee/382be572a9b743fea3c07d6f70d9de8d.jpg: 0.816301167011261\n",
            "Downloaded blob pokemon/images/Eevee/382be572a9b743fea3c07d6f70d9de8d.jpg from bucket jkwng-vertex-experiments as bytes\n",
            "pokemon/images/Flareon/23f57c80ee784b63b23e4cea6cd6f454.jpg: 0.8001234531402588\n",
            "Downloaded blob pokemon/images/Flareon/23f57c80ee784b63b23e4cea6cd6f454.jpg from bucket jkwng-vertex-experiments as bytes\n",
            "pokemon/images/Jolteon/96ec94e0e05f4e73adaf2b2ff68cb427.jpg: 0.7993040680885315\n",
            "Downloaded blob pokemon/images/Jolteon/96ec94e0e05f4e73adaf2b2ff68cb427.jpg from bucket jkwng-vertex-experiments as bytes\n",
            "pokemon/images/Arcanine/4feb43ec07af47a6847ced9fe12b52b7.jpg: 0.7963372468948364\n",
            "Downloaded blob pokemon/images/Arcanine/4feb43ec07af47a6847ced9fe12b52b7.jpg from bucket jkwng-vertex-experiments as bytes\n",
            "pokemon/images/Jolteon/3e8bb46465d64ae4b908be17c5fe4d88.jpg: 0.7953223586082458\n",
            "Downloaded blob pokemon/images/Jolteon/3e8bb46465d64ae4b908be17c5fe4d88.jpg from bucket jkwng-vertex-experiments as bytes\n"
          ]
        }
      ]
    },
    {
      "cell_type": "code",
      "source": [
        "import matplotlib.pyplot as plt\n",
        "from PIL.Image import Image as PilImage\n",
        "import numpy as np\n",
        "\n",
        "for i, pilImg in enumerate(pilImages):\n",
        "  # pilImg.show()\n",
        "\n",
        "  plt.subplot(int(len(pilImages) / 3), 3, i + 1)\n",
        "  plt.imshow(np.asarray(pilImg))\n",
        "\n",
        "  plt.axis('off')"
      ],
      "metadata": {
        "colab": {
          "base_uri": "https://localhost:8080/",
          "height": 406
        },
        "id": "84ZhqfCV_ulT",
        "executionInfo": {
          "status": "ok",
          "timestamp": 1728582067931,
          "user_tz": 240,
          "elapsed": 2446,
          "user": {
            "displayName": "",
            "userId": ""
          }
        },
        "outputId": "dad39690-5341-4418-ce6c-902a14982495"
      },
      "id": "84ZhqfCV_ulT",
      "execution_count": 39,
      "outputs": [
        {
          "output_type": "display_data",
          "data": {
            "text/plain": [
              "<Figure size 640x480 with 9 Axes>"
            ],
            "image/png": "[encoded data removed]"
          },
          "metadata": {}
        }
      ]
    },
    {
      "cell_type": "markdown",
      "source": [
        "# Model Garden"
      ],
      "metadata": {
        "id": "OLB39P9sNss9"
      },
      "id": "OLB39P9sNss9"
    },
    {
      "cell_type": "markdown",
      "source": [
        "# Deploy from Huggingface"
      ],
      "metadata": {
        "id": "Z8WMlkWSNlS8"
      },
      "id": "Z8WMlkWSNlS8"
    },
    {
      "cell_type": "markdown",
      "source": [
        "Llama 2 (via Vertex AI Model Garden)"
      ],
      "metadata": {
        "id": "H3P2rzbf0ovm"
      },
      "id": "H3P2rzbf0ovm"
    },
    {
      "cell_type": "code",
      "source": [
        "endpoint_name = \"5070083411163480064\"\n",
        "aip_endpoint_name = (\n",
        "     f\"projects/{PROJECT_ID}/locations/{REGION}/endpoints/{endpoint_name}\"\n",
        ")\n",
        "endpoint = aiplatform.Endpoint(aip_endpoint_name)"
      ],
      "metadata": {
        "id": "fr0hyFpt2KwE"
      },
      "id": "fr0hyFpt2KwE",
      "execution_count": null,
      "outputs": []
    },
    {
      "cell_type": "code",
      "source": [
        "# Overides max_tokens and top_k parameters during inferences.\n",
        "# If you encounter the issue like `ServiceUnavailable: 503 Took too long to respond when processing`,\n",
        "# you can reduce the max length, such as set max_tokens as 20.\n",
        "instances = [\n",
        "    {\n",
        "        \"prompt\": f\"### Human: {prompt}### Assistant: \",\n",
        "        \"max_tokens\": max_tokens,\n",
        "        \"temperature\": temperature,\n",
        "        \"top_p\": top_p,\n",
        "        \"top_k\": top_k,\n",
        "    },\n",
        "]\n",
        "response = endpoint.predict(instances=instances)\n",
        "\n",
        "for prediction in response.predictions:\n",
        "    print(prediction)"
      ],
      "metadata": {
        "colab": {
          "base_uri": "https://localhost:8080/"
        },
        "id": "LASFCVVr2V_T",
        "executionInfo": {
          "status": "ok",
          "timestamp": 1718819097764,
          "user_tz": 240,
          "elapsed": 7752,
          "user": {
            "displayName": "",
            "userId": ""
          }
        },
        "outputId": "88719d99-42c1-41ef-f604-a4e4f991e69c"
      },
      "id": "LASFCVVr2V_T",
      "execution_count": null,
      "outputs": [
        {
          "output_type": "stream",
          "name": "stdout",
          "text": [
            "Prompt:\n",
            "### Human: How would the Future of AI in 10 Years look?### Assistant:\n",
            "Output:\n",
            "The future of AI in 10 years is expected to be shaped by several factors, including advancements in technology, societal needs, and ethical considerations. Here are some potential trends and developments that could shape the future of AI:\n",
            "1. Increased Adoption: AI is likely to become more ubiquitous in various industries such as healthcare, finance, education, and transportation. As the technology improves, more businesses and organizations are likely to adopt AI solutions to streamline processes, improve efficiency, and reduce costs.\n",
            "2\n"
          ]
        }
      ]
    },
    {
      "cell_type": "markdown",
      "source": [
        "Llama 2 (via Huggingface)"
      ],
      "metadata": {
        "id": "4uz2t6Uj0rsJ"
      },
      "id": "4uz2t6Uj0rsJ"
    },
    {
      "cell_type": "code",
      "source": [
        "endpoint_name = \"4207644082522030080\"\n",
        "aip_endpoint_name = (\n",
        "     f\"projects/{PROJECT_ID}/locations/{REGION}/endpoints/{endpoint_name}\"\n",
        ")\n",
        "endpoint = aiplatform.Endpoint(aip_endpoint_name)"
      ],
      "metadata": {
        "id": "jinvaWzW1VZb"
      },
      "id": "jinvaWzW1VZb",
      "execution_count": null,
      "outputs": []
    },
    {
      "cell_type": "code",
      "source": [
        "# Overides max_tokens and top_k parameters during inferences.\n",
        "# If you encounter the issue like `ServiceUnavailable: 503 Took too long to respond when processing`,\n",
        "# you can reduce the max length, such as set max_tokens as 20.\n",
        "instances = [\n",
        "    {\n",
        "        \"inputs\": f\"{prompt}\",\n",
        "        \"parameters\": {\n",
        "            \"max_new_tokens\": max_tokens,\n",
        "            \"temperature\": temperature,\n",
        "            \"top_p\": top_p,\n",
        "            \"top_k\": top_k,\n",
        "        }\n",
        "    },\n",
        "]\n",
        "response = endpoint.predict(instances=instances)\n",
        "\n",
        "for prediction in response.predictions:\n",
        "    print(prediction)"
      ],
      "metadata": {
        "colab": {
          "base_uri": "https://localhost:8080/"
        },
        "id": "yEFskexa3xT1",
        "executionInfo": {
          "status": "ok",
          "timestamp": 1718817645702,
          "user_tz": 240,
          "elapsed": 7846,
          "user": {
            "displayName": "",
            "userId": ""
          }
        },
        "outputId": "349672f9-0292-44d3-fca6-a7937943df7e"
      },
      "id": "yEFskexa3xT1",
      "execution_count": null,
      "outputs": [
        {
          "output_type": "stream",
          "name": "stdout",
          "text": [
            "\n",
            "\n",
            "By 2030, AI is expected to have transformed all aspects of society, from healthcare to education to transportation to entertainment. Here are some potential changes and advancements in AI technology over the next 10 years:\n",
            "\n",
            "1. Solid advancements: AI will improve significantly, making it possible to automate more complex tasks. As a result, there will be more augmentation, and less human intervention, which will lead to increased productivity, efficiency, and accuracy.\n",
            "2. Expansion of AI applications: AI will be used in various indust\n"
          ]
        }
      ]
    },
    {
      "cell_type": "markdown",
      "source": [
        "Fine Tuned Llama 2 (from Vertex AI Pipelines)"
      ],
      "metadata": {
        "id": "zdUsr1IH0vQF"
      },
      "id": "zdUsr1IH0vQF"
    },
    {
      "cell_type": "code",
      "source": [
        "endpoint_name = \"7770695075213869056\"\n",
        "aip_endpoint_name = (\n",
        "     f\"projects/{PROJECT_ID}/locations/{REGION}/endpoints/{endpoint_name}\"\n",
        ")\n",
        "endpoint = aiplatform.Endpoint(aip_endpoint_name)"
      ],
      "metadata": {
        "id": "CIp8i-8m0jzC"
      },
      "id": "CIp8i-8m0jzC",
      "execution_count": null,
      "outputs": []
    },
    {
      "cell_type": "code",
      "source": [
        "# Overides max_tokens and top_k parameters during inferences.\n",
        "# If you encounter the issue like `ServiceUnavailable: 503 Took too long to respond when processing`,\n",
        "# you can reduce the max length, such as set max_tokens as 20.\n",
        "instances = [\n",
        "    {\n",
        "        \"prompt\": f\"### Human: {prompt}### Assistant: \",\n",
        "        \"max_tokens\": max_tokens,\n",
        "        \"temperature\": temperature,\n",
        "        \"top_p\": top_p,\n",
        "        \"top_k\": top_k,\n",
        "    },\n",
        "]\n",
        "response = endpoint.predict(instances=instances)\n",
        "\n",
        "for prediction in response.predictions:\n",
        "    print(prediction)"
      ],
      "metadata": {
        "colab": {
          "base_uri": "https://localhost:8080/"
        },
        "id": "cOaqgNE338-o",
        "executionInfo": {
          "status": "ok",
          "timestamp": 1718817878177,
          "user_tz": 240,
          "elapsed": 7210,
          "user": {
            "displayName": "",
            "userId": ""
          }
        },
        "outputId": "565824cd-c896-4ccb-ac00-ed9b628918fd"
      },
      "id": "cOaqgNE338-o",
      "execution_count": null,
      "outputs": [
        {
          "output_type": "stream",
          "name": "stdout",
          "text": [
            "Prompt:\n",
            "### Human: How would the Future of AI in 10 Years look?### Assistant:\n",
            "Output:\n",
            "10 years is a long time in the world of technology, and AI is constantly evolving and changing. Here are some potential trends and developments that could shape the future of AI in the next decade:\n",
            "\n",
            "1. More advanced AI models: As AI technology continues to advance, we can expect to see more sophisticated and powerful AI models that can perform more complex tasks. These models may be able to understand and generate natural language, recognize and interpret images and videos, and even make decisions based on complex data sets.\n",
            "\n",
            "2. AI in the cloud: As A\n"
          ]
        }
      ]
    }
  ],
  "metadata": {
    "kernelspec": {
      "display_name": "Python 3",
      "language": "python",
      "name": "python3"
    },
    "language_info": {
      "codemirror_mode": {
        "name": "ipython",
        "version": 3
      },
      "file_extension": ".py",
      "mimetype": "text/x-python",
      "name": "python",
      "nbconvert_exporter": "python",
      "pygments_lexer": "ipython3",
      "version": "3.10.10"
    },
    "colab": {
      "provenance": [],
      "name": "Vertex AI Inference.ipynb",
      "toc_visible": true
    }
  },
  "nbformat": 4,
  "nbformat_minor": 5
}